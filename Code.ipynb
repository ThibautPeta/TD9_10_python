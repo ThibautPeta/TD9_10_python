{
 "cells": [
  {
   "cell_type": "code",
   "execution_count": null,
   "id": "cfae1b60",
   "metadata": {},
   "outputs": [],
   "source": [
    "#import des bibliothèques\n",
    "import numpy as np\n",
    "import pandas as pd #parcequ'on est pas des PD nous\n",
    "import matplotlib.pyplot as plt\n",
    "import seaborn as sns\n",
    "import plotly.express as px\n",
    "import plotly.graph_objs as go\n",
    "from plotly.subplots import make_subplots\n",
    "from plotly.offline import plot, iplot, init_notebook_mode\n",
    "init_notebook_mode(connected=True)"
   ]
  },
  {
   "cell_type": "code",
   "execution_count": null,
   "id": "5b2b10dc",
   "metadata": {},
   "outputs": [],
   "source": [
    "#import de l'ensemble des données\n",
    "#df_2017 = pd.read_csv('valeursfoncieres-2017.txt', sep=\"|\",low_memory=False,decimal=',',dtype=str)\n",
    "#df_2018 = pd.read_csv('valeursfoncieres-2018.txt', sep=\"|\",low_memory=False,decimal=',',dtype=str)\n",
    "#df_2019 = pd.read_csv('valeursfoncieres-2019.txt', sep=\"|\",low_memory=False,decimal=',',dtype=str)\n",
    "df_2020 = pd.read_csv('valeursfoncieres-2020.txt', sep=\"|\",low_memory=False,decimal=',',dtype={'Code postal':str})\n",
    "#df_2021 = pd.read_csv('valeursfoncieres-2021.txt', sep=\"|\",low_memory=False,decimal=',',dtype=str)"
   ]
  },
  {
   "cell_type": "code",
   "execution_count": null,
   "id": "a80678f6",
   "metadata": {},
   "outputs": [],
   "source": [
    "#affichage des 5 premiers élément du dataframe 2017\n",
    "#df_2017.head()"
   ]
  },
  {
   "cell_type": "code",
   "execution_count": null,
   "id": "7276b9ad",
   "metadata": {},
   "outputs": [],
   "source": [
    "#petite fonction qui permet de vérifier si une colonne ne contient aucun élément et dans ce cas cette dernière est supprimé\n",
    "def ColonneVide(df):\n",
    "    nunique = df.nunique()\n",
    "    compteur = 0\n",
    "    for i in df.columns:\n",
    "        if nunique[compteur] == 0:\n",
    "            del df[i]\n",
    "        compteur += 1\n",
    "    return df"
   ]
  },
  {
   "cell_type": "code",
   "execution_count": null,
   "id": "9a59758e",
   "metadata": {},
   "outputs": [],
   "source": [
    "#on supprime les colonnes vides\n",
    "#df_2017 = ColonneVide(df_2017)\n",
    "#df_2018 = ColonneVide(df_2018)\n",
    "#df_2019 = ColonneVide(df_2019)\n",
    "df_2020 = ColonneVide(df_2020)\n",
    "#df_2021 = ColonneVide(df_2021)"
   ]
  },
  {
   "cell_type": "code",
   "execution_count": null,
   "id": "814d0d46",
   "metadata": {},
   "outputs": [],
   "source": [
    "df_2020.nunique()"
   ]
  }
 ],
 "metadata": {
  "kernelspec": {
   "display_name": "Python 3 (ipykernel)",
   "language": "python",
   "name": "python3"
  },
  "language_info": {
   "codemirror_mode": {
    "name": "ipython",
    "version": 3
   },
   "file_extension": ".py",
   "mimetype": "text/x-python",
   "name": "python",
   "nbconvert_exporter": "python",
   "pygments_lexer": "ipython3",
   "version": "3.9.7"
  }
 },
 "nbformat": 4,
 "nbformat_minor": 5
}

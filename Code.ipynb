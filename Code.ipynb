{
 "cells": [
  {
   "cell_type": "code",
   "execution_count": 2,
   "id": "cfae1b60",
   "metadata": {},
   "outputs": [
    {
     "data": {
      "text/html": [
       "        <script type=\"text/javascript\">\n",
       "        window.PlotlyConfig = {MathJaxConfig: 'local'};\n",
       "        if (window.MathJax && window.MathJax.Hub && window.MathJax.Hub.Config) {window.MathJax.Hub.Config({SVG: {font: \"STIX-Web\"}});}\n",
       "        if (typeof require !== 'undefined') {\n",
       "        require.undef(\"plotly\");\n",
       "        requirejs.config({\n",
       "            paths: {\n",
       "                'plotly': ['https://cdn.plot.ly/plotly-2.12.1.min']\n",
       "            }\n",
       "        });\n",
       "        require(['plotly'], function(Plotly) {\n",
       "            window._Plotly = Plotly;\n",
       "        });\n",
       "        }\n",
       "        </script>\n",
       "        "
      ]
     },
     "metadata": {},
     "output_type": "display_data"
    }
   ],
   "source": [
    "#import des bibliothèques\n",
    "import numpy as np\n",
    "import pandas as pd #parcequ'on est pas des PD nous\n",
    "import matplotlib.pyplot as plt\n",
    "import seaborn as sns\n",
    "import plotly.express as px\n",
    "import plotly.graph_objs as go\n",
    "from plotly.subplots import make_subplots\n",
    "from plotly.offline import plot, iplot, init_notebook_mode\n",
    "init_notebook_mode(connected=True)"
   ]
  },
  {
   "cell_type": "code",
   "execution_count": 4,
   "id": "5b2b10dc",
   "metadata": {},
   "outputs": [],
   "source": [
    "#import de l'ensemble des données\n",
    "full_data = pd.read_csv('valeursfoncieres-2020.txt', sep=\"|\",low_memory=False)"
   ]
  },
  {
   "cell_type": "code",
   "execution_count": 10,
   "id": "2a09ff46",
   "metadata": {
    "scrolled": true
   },
   "outputs": [
    {
     "data": {
      "text/plain": [
       "Code service CH               float64\n",
       "Reference document            float64\n",
       "1 Articles CGI                float64\n",
       "2 Articles CGI                float64\n",
       "3 Articles CGI                float64\n",
       "4 Articles CGI                float64\n",
       "5 Articles CGI                float64\n",
       "No disposition                  int64\n",
       "Date mutation                  object\n",
       "Nature mutation                object\n",
       "Valeur fonciere                object\n",
       "No voie                       float64\n",
       "B/T/Q                          object\n",
       "Type de voie                   object\n",
       "Code voie                      object\n",
       "Voie                           object\n",
       "Code postal                   float64\n",
       "Commune                        object\n",
       "Code departement               object\n",
       "Code commune                    int64\n",
       "Prefixe de section            float64\n",
       "Section                        object\n",
       "No plan                         int64\n",
       "No Volume                      object\n",
       "1er lot                        object\n",
       "Surface Carrez du 1er lot      object\n",
       "2eme lot                       object\n",
       "Surface Carrez du 2eme lot     object\n",
       "3eme lot                       object\n",
       "Surface Carrez du 3eme lot     object\n",
       "4eme lot                      float64\n",
       "Surface Carrez du 4eme lot     object\n",
       "5eme lot                      float64\n",
       "Surface Carrez du 5eme lot     object\n",
       "Nombre de lots                  int64\n",
       "Code type local               float64\n",
       "Type local                     object\n",
       "Identifiant local             float64\n",
       "Surface reelle bati           float64\n",
       "Nombre pieces principales     float64\n",
       "Nature culture                 object\n",
       "Nature culture speciale        object\n",
       "Surface terrain               float64\n",
       "dtype: object"
      ]
     },
     "execution_count": 10,
     "metadata": {},
     "output_type": "execute_result"
    }
   ],
   "source": [
    "full_data.dtypes"
   ]
  },
  {
   "cell_type": "code",
   "execution_count": null,
   "id": "43fe3aa1",
   "metadata": {},
   "outputs": [],
   "source": []
  }
 ],
 "metadata": {
  "kernelspec": {
   "display_name": "Python 3 (ipykernel)",
   "language": "python",
   "name": "python3"
  },
  "language_info": {
   "codemirror_mode": {
    "name": "ipython",
    "version": 3
   },
   "file_extension": ".py",
   "mimetype": "text/x-python",
   "name": "python",
   "nbconvert_exporter": "python",
   "pygments_lexer": "ipython3",
   "version": "3.9.7"
  }
 },
 "nbformat": 4,
 "nbformat_minor": 5
}

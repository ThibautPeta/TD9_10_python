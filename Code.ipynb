{
 "cells": [
  {
   "cell_type": "code",
   "execution_count": 3,
   "id": "cfae1b60",
   "metadata": {},
   "outputs": [
    {
     "data": {
      "text/html": [
       "        <script type=\"text/javascript\">\n",
       "        window.PlotlyConfig = {MathJaxConfig: 'local'};\n",
       "        if (window.MathJax && window.MathJax.Hub && window.MathJax.Hub.Config) {window.MathJax.Hub.Config({SVG: {font: \"STIX-Web\"}});}\n",
       "        if (typeof require !== 'undefined') {\n",
       "        require.undef(\"plotly\");\n",
       "        requirejs.config({\n",
       "            paths: {\n",
       "                'plotly': ['https://cdn.plot.ly/plotly-2.12.1.min']\n",
       "            }\n",
       "        });\n",
       "        require(['plotly'], function(Plotly) {\n",
       "            window._Plotly = Plotly;\n",
       "        });\n",
       "        }\n",
       "        </script>\n",
       "        "
      ]
     },
     "metadata": {},
     "output_type": "display_data"
    }
   ],
   "source": [
    "#import des bibliothèques\n",
    "import numpy as np\n",
    "import pandas as pd #parcequ'on est pas des PD nous\n",
    "import matplotlib.pyplot as plt\n",
    "import seaborn as sns\n",
    "import plotly.express as px\n",
    "import plotly.graph_objs as go\n",
    "from plotly.subplots import make_subplots\n",
    "from plotly.offline import plot, iplot, init_notebook_mode\n",
    "import json\n",
    "import geojson\n",
    "import matplotlib.pyplot as plt\n",
    "from matplotlib.widgets import TextBox\n",
    "from urllib.request import urlopen\n",
    "from datetime import datetime\n",
    "import statistics\n",
    "init_notebook_mode(connected=True)"
   ]
  },
  {
   "cell_type": "code",
   "execution_count": 3,
   "id": "5b2b10dc",
   "metadata": {},
   "outputs": [],
   "source": [
    "#import de l'ensemble des données\n",
    "#df_2017 = pd.read_csv('valeursfoncieres-2017.txt', sep=\"|\",low_memory=False,decimal=',')\n",
    "#df_2018 = pd.read_csv('valeursfoncieres-2018.txt', sep=\"|\",low_memory=False,decimal=',')\n",
    "#df_2019 = pd.read_csv('valeursfoncieres-2019.txt', sep=\"|\",low_memory=False,decimal=',')\n",
    "df_2020 = pd.read_csv('valeursfoncieres-2020.txt', sep=\"|\",low_memory=False,decimal=',')\n",
    "#df_2021 = pd.read_csv('valeursfoncieres-2021.txt', sep=\"|\",low_memory=False,decimal=',')"
   ]
  },
  {
   "cell_type": "code",
   "execution_count": null,
   "id": "a80678f6",
   "metadata": {},
   "outputs": [],
   "source": [
    "#affichage des 5 premiers élément du dataframe 2017\n",
    "#df_2017.head()"
   ]
  },
  {
   "cell_type": "code",
   "execution_count": 4,
   "id": "7276b9ad",
   "metadata": {},
   "outputs": [],
   "source": [
    "#petite fonction qui permet de vérifier si une colonne ne contient aucun élément et dans ce cas cette dernière est supprimé\n",
    "def ColonneVide(df):\n",
    "    nunique = df.nunique()\n",
    "    compteur = 0\n",
    "    for i in df.columns:\n",
    "        if nunique[compteur] == 0:\n",
    "            del df[i]\n",
    "        compteur += 1\n",
    "    return df"
   ]
  },
  {
   "cell_type": "code",
   "execution_count": 5,
   "id": "9a59758e",
   "metadata": {},
   "outputs": [
    {
     "data": {
      "text/html": [
       "<div>\n",
       "<style scoped>\n",
       "    .dataframe tbody tr th:only-of-type {\n",
       "        vertical-align: middle;\n",
       "    }\n",
       "\n",
       "    .dataframe tbody tr th {\n",
       "        vertical-align: top;\n",
       "    }\n",
       "\n",
       "    .dataframe thead th {\n",
       "        text-align: right;\n",
       "    }\n",
       "</style>\n",
       "<table border=\"1\" class=\"dataframe\">\n",
       "  <thead>\n",
       "    <tr style=\"text-align: right;\">\n",
       "      <th></th>\n",
       "      <th>No disposition</th>\n",
       "      <th>Date mutation</th>\n",
       "      <th>Nature mutation</th>\n",
       "      <th>Valeur fonciere</th>\n",
       "      <th>No voie</th>\n",
       "      <th>B/T/Q</th>\n",
       "      <th>Type de voie</th>\n",
       "      <th>Code voie</th>\n",
       "      <th>Voie</th>\n",
       "      <th>Code postal</th>\n",
       "      <th>...</th>\n",
       "      <th>5eme lot</th>\n",
       "      <th>Surface Carrez du 5eme lot</th>\n",
       "      <th>Nombre de lots</th>\n",
       "      <th>Code type local</th>\n",
       "      <th>Type local</th>\n",
       "      <th>Surface reelle bati</th>\n",
       "      <th>Nombre pieces principales</th>\n",
       "      <th>Nature culture</th>\n",
       "      <th>Nature culture speciale</th>\n",
       "      <th>Surface terrain</th>\n",
       "    </tr>\n",
       "  </thead>\n",
       "  <tbody>\n",
       "    <tr>\n",
       "      <th>0</th>\n",
       "      <td>1</td>\n",
       "      <td>07/01/2020</td>\n",
       "      <td>Vente</td>\n",
       "      <td>8000.0</td>\n",
       "      <td>NaN</td>\n",
       "      <td>NaN</td>\n",
       "      <td>NaN</td>\n",
       "      <td>B063</td>\n",
       "      <td>FORTUNAT</td>\n",
       "      <td>1250.0</td>\n",
       "      <td>...</td>\n",
       "      <td>NaN</td>\n",
       "      <td>NaN</td>\n",
       "      <td>0</td>\n",
       "      <td>NaN</td>\n",
       "      <td>NaN</td>\n",
       "      <td>NaN</td>\n",
       "      <td>NaN</td>\n",
       "      <td>T</td>\n",
       "      <td>NaN</td>\n",
       "      <td>1061.0</td>\n",
       "    </tr>\n",
       "    <tr>\n",
       "      <th>1</th>\n",
       "      <td>1</td>\n",
       "      <td>02/01/2020</td>\n",
       "      <td>Vente</td>\n",
       "      <td>2175.0</td>\n",
       "      <td>NaN</td>\n",
       "      <td>NaN</td>\n",
       "      <td>NaN</td>\n",
       "      <td>B124</td>\n",
       "      <td>TERRES DES CINQ SAULES</td>\n",
       "      <td>1290.0</td>\n",
       "      <td>...</td>\n",
       "      <td>NaN</td>\n",
       "      <td>NaN</td>\n",
       "      <td>0</td>\n",
       "      <td>NaN</td>\n",
       "      <td>NaN</td>\n",
       "      <td>NaN</td>\n",
       "      <td>NaN</td>\n",
       "      <td>BT</td>\n",
       "      <td>NaN</td>\n",
       "      <td>85.0</td>\n",
       "    </tr>\n",
       "    <tr>\n",
       "      <th>2</th>\n",
       "      <td>1</td>\n",
       "      <td>02/01/2020</td>\n",
       "      <td>Vente</td>\n",
       "      <td>2175.0</td>\n",
       "      <td>NaN</td>\n",
       "      <td>NaN</td>\n",
       "      <td>NaN</td>\n",
       "      <td>B006</td>\n",
       "      <td>BOIS DU CHAMP RION</td>\n",
       "      <td>1290.0</td>\n",
       "      <td>...</td>\n",
       "      <td>NaN</td>\n",
       "      <td>NaN</td>\n",
       "      <td>0</td>\n",
       "      <td>NaN</td>\n",
       "      <td>NaN</td>\n",
       "      <td>NaN</td>\n",
       "      <td>NaN</td>\n",
       "      <td>T</td>\n",
       "      <td>NaN</td>\n",
       "      <td>1115.0</td>\n",
       "    </tr>\n",
       "    <tr>\n",
       "      <th>3</th>\n",
       "      <td>1</td>\n",
       "      <td>02/01/2020</td>\n",
       "      <td>Vente</td>\n",
       "      <td>2175.0</td>\n",
       "      <td>NaN</td>\n",
       "      <td>NaN</td>\n",
       "      <td>NaN</td>\n",
       "      <td>B025</td>\n",
       "      <td>EN COROBERT</td>\n",
       "      <td>1290.0</td>\n",
       "      <td>...</td>\n",
       "      <td>NaN</td>\n",
       "      <td>NaN</td>\n",
       "      <td>0</td>\n",
       "      <td>NaN</td>\n",
       "      <td>NaN</td>\n",
       "      <td>NaN</td>\n",
       "      <td>NaN</td>\n",
       "      <td>T</td>\n",
       "      <td>NaN</td>\n",
       "      <td>1940.0</td>\n",
       "    </tr>\n",
       "    <tr>\n",
       "      <th>4</th>\n",
       "      <td>1</td>\n",
       "      <td>02/01/2020</td>\n",
       "      <td>Vente</td>\n",
       "      <td>2175.0</td>\n",
       "      <td>NaN</td>\n",
       "      <td>NaN</td>\n",
       "      <td>NaN</td>\n",
       "      <td>B124</td>\n",
       "      <td>TERRES DES CINQ SAULES</td>\n",
       "      <td>1290.0</td>\n",
       "      <td>...</td>\n",
       "      <td>NaN</td>\n",
       "      <td>NaN</td>\n",
       "      <td>0</td>\n",
       "      <td>NaN</td>\n",
       "      <td>NaN</td>\n",
       "      <td>NaN</td>\n",
       "      <td>NaN</td>\n",
       "      <td>T</td>\n",
       "      <td>NaN</td>\n",
       "      <td>1148.0</td>\n",
       "    </tr>\n",
       "    <tr>\n",
       "      <th>5</th>\n",
       "      <td>1</td>\n",
       "      <td>02/01/2020</td>\n",
       "      <td>Vente</td>\n",
       "      <td>2175.0</td>\n",
       "      <td>NaN</td>\n",
       "      <td>NaN</td>\n",
       "      <td>NaN</td>\n",
       "      <td>B124</td>\n",
       "      <td>TERRES DES CINQ SAULES</td>\n",
       "      <td>1290.0</td>\n",
       "      <td>...</td>\n",
       "      <td>NaN</td>\n",
       "      <td>NaN</td>\n",
       "      <td>0</td>\n",
       "      <td>NaN</td>\n",
       "      <td>NaN</td>\n",
       "      <td>NaN</td>\n",
       "      <td>NaN</td>\n",
       "      <td>T</td>\n",
       "      <td>NaN</td>\n",
       "      <td>2960.0</td>\n",
       "    </tr>\n",
       "    <tr>\n",
       "      <th>6</th>\n",
       "      <td>1</td>\n",
       "      <td>07/01/2020</td>\n",
       "      <td>Vente</td>\n",
       "      <td>75000.0</td>\n",
       "      <td>NaN</td>\n",
       "      <td>NaN</td>\n",
       "      <td>RUE</td>\n",
       "      <td>0064</td>\n",
       "      <td>DE LA CHARTREUSE</td>\n",
       "      <td>1960.0</td>\n",
       "      <td>...</td>\n",
       "      <td>NaN</td>\n",
       "      <td>NaN</td>\n",
       "      <td>0</td>\n",
       "      <td>NaN</td>\n",
       "      <td>NaN</td>\n",
       "      <td>NaN</td>\n",
       "      <td>NaN</td>\n",
       "      <td>AB</td>\n",
       "      <td>NaN</td>\n",
       "      <td>610.0</td>\n",
       "    </tr>\n",
       "    <tr>\n",
       "      <th>7</th>\n",
       "      <td>1</td>\n",
       "      <td>07/01/2020</td>\n",
       "      <td>Vente</td>\n",
       "      <td>123.0</td>\n",
       "      <td>NaN</td>\n",
       "      <td>NaN</td>\n",
       "      <td>NaN</td>\n",
       "      <td>B041</td>\n",
       "      <td>CHAMP PORTIER</td>\n",
       "      <td>1370.0</td>\n",
       "      <td>...</td>\n",
       "      <td>NaN</td>\n",
       "      <td>NaN</td>\n",
       "      <td>0</td>\n",
       "      <td>NaN</td>\n",
       "      <td>NaN</td>\n",
       "      <td>NaN</td>\n",
       "      <td>NaN</td>\n",
       "      <td>S</td>\n",
       "      <td>NaN</td>\n",
       "      <td>55.0</td>\n",
       "    </tr>\n",
       "    <tr>\n",
       "      <th>8</th>\n",
       "      <td>1</td>\n",
       "      <td>07/01/2020</td>\n",
       "      <td>Vente</td>\n",
       "      <td>123.0</td>\n",
       "      <td>NaN</td>\n",
       "      <td>NaN</td>\n",
       "      <td>NaN</td>\n",
       "      <td>B041</td>\n",
       "      <td>CHAMP PORTIER</td>\n",
       "      <td>1370.0</td>\n",
       "      <td>...</td>\n",
       "      <td>NaN</td>\n",
       "      <td>NaN</td>\n",
       "      <td>0</td>\n",
       "      <td>NaN</td>\n",
       "      <td>NaN</td>\n",
       "      <td>NaN</td>\n",
       "      <td>NaN</td>\n",
       "      <td>S</td>\n",
       "      <td>NaN</td>\n",
       "      <td>68.0</td>\n",
       "    </tr>\n",
       "    <tr>\n",
       "      <th>9</th>\n",
       "      <td>1</td>\n",
       "      <td>09/01/2020</td>\n",
       "      <td>Vente</td>\n",
       "      <td>72000.0</td>\n",
       "      <td>NaN</td>\n",
       "      <td>NaN</td>\n",
       "      <td>NaN</td>\n",
       "      <td>B034</td>\n",
       "      <td>CHAMPEL</td>\n",
       "      <td>1270.0</td>\n",
       "      <td>...</td>\n",
       "      <td>NaN</td>\n",
       "      <td>NaN</td>\n",
       "      <td>0</td>\n",
       "      <td>NaN</td>\n",
       "      <td>NaN</td>\n",
       "      <td>NaN</td>\n",
       "      <td>NaN</td>\n",
       "      <td>J</td>\n",
       "      <td>NaN</td>\n",
       "      <td>328.0</td>\n",
       "    </tr>\n",
       "  </tbody>\n",
       "</table>\n",
       "<p>10 rows × 35 columns</p>\n",
       "</div>"
      ],
      "text/plain": [
       "   No disposition Date mutation Nature mutation  Valeur fonciere  No voie  \\\n",
       "0               1    07/01/2020           Vente           8000.0      NaN   \n",
       "1               1    02/01/2020           Vente           2175.0      NaN   \n",
       "2               1    02/01/2020           Vente           2175.0      NaN   \n",
       "3               1    02/01/2020           Vente           2175.0      NaN   \n",
       "4               1    02/01/2020           Vente           2175.0      NaN   \n",
       "5               1    02/01/2020           Vente           2175.0      NaN   \n",
       "6               1    07/01/2020           Vente          75000.0      NaN   \n",
       "7               1    07/01/2020           Vente            123.0      NaN   \n",
       "8               1    07/01/2020           Vente            123.0      NaN   \n",
       "9               1    09/01/2020           Vente          72000.0      NaN   \n",
       "\n",
       "  B/T/Q Type de voie Code voie                    Voie  Code postal  ...  \\\n",
       "0   NaN          NaN      B063                FORTUNAT       1250.0  ...   \n",
       "1   NaN          NaN      B124  TERRES DES CINQ SAULES       1290.0  ...   \n",
       "2   NaN          NaN      B006      BOIS DU CHAMP RION       1290.0  ...   \n",
       "3   NaN          NaN      B025             EN COROBERT       1290.0  ...   \n",
       "4   NaN          NaN      B124  TERRES DES CINQ SAULES       1290.0  ...   \n",
       "5   NaN          NaN      B124  TERRES DES CINQ SAULES       1290.0  ...   \n",
       "6   NaN          RUE      0064        DE LA CHARTREUSE       1960.0  ...   \n",
       "7   NaN          NaN      B041           CHAMP PORTIER       1370.0  ...   \n",
       "8   NaN          NaN      B041           CHAMP PORTIER       1370.0  ...   \n",
       "9   NaN          NaN      B034                 CHAMPEL       1270.0  ...   \n",
       "\n",
       "  5eme lot Surface Carrez du 5eme lot  Nombre de lots  Code type local  \\\n",
       "0      NaN                        NaN               0              NaN   \n",
       "1      NaN                        NaN               0              NaN   \n",
       "2      NaN                        NaN               0              NaN   \n",
       "3      NaN                        NaN               0              NaN   \n",
       "4      NaN                        NaN               0              NaN   \n",
       "5      NaN                        NaN               0              NaN   \n",
       "6      NaN                        NaN               0              NaN   \n",
       "7      NaN                        NaN               0              NaN   \n",
       "8      NaN                        NaN               0              NaN   \n",
       "9      NaN                        NaN               0              NaN   \n",
       "\n",
       "  Type local  Surface reelle bati Nombre pieces principales Nature culture  \\\n",
       "0        NaN                  NaN                       NaN              T   \n",
       "1        NaN                  NaN                       NaN             BT   \n",
       "2        NaN                  NaN                       NaN              T   \n",
       "3        NaN                  NaN                       NaN              T   \n",
       "4        NaN                  NaN                       NaN              T   \n",
       "5        NaN                  NaN                       NaN              T   \n",
       "6        NaN                  NaN                       NaN             AB   \n",
       "7        NaN                  NaN                       NaN              S   \n",
       "8        NaN                  NaN                       NaN              S   \n",
       "9        NaN                  NaN                       NaN              J   \n",
       "\n",
       "   Nature culture speciale Surface terrain  \n",
       "0                      NaN          1061.0  \n",
       "1                      NaN            85.0  \n",
       "2                      NaN          1115.0  \n",
       "3                      NaN          1940.0  \n",
       "4                      NaN          1148.0  \n",
       "5                      NaN          2960.0  \n",
       "6                      NaN           610.0  \n",
       "7                      NaN            55.0  \n",
       "8                      NaN            68.0  \n",
       "9                      NaN           328.0  \n",
       "\n",
       "[10 rows x 35 columns]"
      ]
     },
     "execution_count": 5,
     "metadata": {},
     "output_type": "execute_result"
    }
   ],
   "source": [
    "#on supprime les colonnes vides\n",
    "#df_2017 = ColonneVide(df_2017)\n",
    "#df_2018 = ColonneVide(df_2018)\n",
    "#df_2019 = ColonneVide(df_2019)\n",
    "df_2020 = ColonneVide(df_2020)\n",
    "#df_2021 = ColonneVide(df_2021)\n",
    "df_2020.head(10)"
   ]
  },
  {
   "cell_type": "code",
   "execution_count": 5,
   "id": "9ad256de",
   "metadata": {},
   "outputs": [],
   "source": [
    "#variables utiles pour la suite\n",
    "\n",
    "REGIONS = {\n",
    "    'Auvergne-Rhône-Alpes': ['01', '03', '07', '15', '26', '38', '42', '43', '63', '69', '73', '74'],\n",
    "    'Bourgogne-Franche-Comté': ['21', '25', '39', '58', '70', '71', '89', '90'],\n",
    "    'Bretagne': ['35', '22', '56', '29'],\n",
    "    'Centre-Val de Loire': ['18', '28', '36', '37', '41', '45'],\n",
    "    'Corse': ['2A', '2B'],\n",
    "    'Grand Est': ['08', '10', '51', '52', '54', '55', '57', '67', '68', '88'],\n",
    "    'Guadeloupe': ['971'],\n",
    "    'Guyane': ['973'],\n",
    "    'Hauts-de-France': ['02', '59', '60', '62', '80'],\n",
    "    'Île-de-France': ['75', '77', '78', '91', '92', '93', '94', '95'],\n",
    "    'La Réunion': ['974'],\n",
    "    'Martinique': ['972'],\n",
    "    'Normandie': ['14', '27', '50', '61', '76'],\n",
    "    'Nouvelle-Aquitaine': ['16', '17', '19', '23', '24', '33', '40', '47', '64', '79', '86', '87'],\n",
    "    'Occitanie': ['09', '11', '12', '30', '31', '32', '34', '46', '48', '65', '66', '81', '82'],\n",
    "    'Pays de la Loire': ['44', '49', '53', '72', '85'],\n",
    "    'Provence-Alpes-Côte d\\'Azur': ['04', '05', '06', '13', '83', '84'],\n",
    "}\n",
    "\n",
    "DEPARTMENTS = {\n",
    "    '01': 'Ain', \n",
    "    '02': 'Aisne', \n",
    "    '03': 'Allier', \n",
    "    '04': 'Alpes-de-Haute-Provence', \n",
    "    '05': 'Hautes-Alpes',\n",
    "    '06': 'Alpes-Maritimes', \n",
    "    '07': 'Ardèche', \n",
    "    '08': 'Ardennes', \n",
    "    '09': 'Ariège', \n",
    "    '10': 'Aube', \n",
    "    '11': 'Aude',\n",
    "    '12': 'Aveyron', \n",
    "    '13': 'Bouches-du-Rhône', \n",
    "    '14': 'Calvados', \n",
    "    '15': 'Cantal', \n",
    "    '16': 'Charente',\n",
    "    '17': 'Charente-Maritime', \n",
    "    '18': 'Cher', \n",
    "    '19': 'Corrèze', \n",
    "    '2A': 'Corse-du-Sud', \n",
    "    '2B': 'Haute-Corse',\n",
    "    '21': 'Côte-d\\'Or', \n",
    "    '22': 'Côtes-d\\'Armor', \n",
    "    '23': 'Creuse', \n",
    "    '24': 'Dordogne', \n",
    "    '25': 'Doubs', \n",
    "    '26': 'Drôme',\n",
    "    '27': 'Eure', \n",
    "    '28': 'Eure-et-Loir', \n",
    "    '29': 'Finistère', \n",
    "    '30': 'Gard', \n",
    "    '31': 'Haute-Garonne', \n",
    "    '32': 'Gers',\n",
    "    '33': 'Gironde', \n",
    "    '34': 'Hérault', \n",
    "    '35': 'Ille-et-Vilaine', \n",
    "    '36': 'Indre', \n",
    "    '37': 'Indre-et-Loire',\n",
    "    '38': 'Isère', \n",
    "    '39': 'Jura', \n",
    "    '40': 'Landes', \n",
    "    '41': 'Loir-et-Cher', \n",
    "    '42': 'Loire', \n",
    "    '43': 'Haute-Loire',\n",
    "    '44': 'Loire-Atlantique', \n",
    "    '45': 'Loiret', \n",
    "    '46': 'Lot', \n",
    "    '47': 'Lot-et-Garonne', \n",
    "    '48': 'Lozère',\n",
    "    '49': 'Maine-et-Loire', \n",
    "    '50': 'Manche', \n",
    "    '51': 'Marne', \n",
    "    '52': 'Haute-Marne', \n",
    "    '53': 'Mayenne',\n",
    "    '54': 'Meurthe-et-Moselle', \n",
    "    '55': 'Meuse', \n",
    "    '56': 'Morbihan', \n",
    "    '57': 'Moselle', \n",
    "    '58': 'Nièvre', \n",
    "    '59': 'Nord',\n",
    "    '60': 'Oise', \n",
    "    '61': 'Orne', \n",
    "    '62': 'Pas-de-Calais', \n",
    "    '63': 'Puy-de-Dôme', \n",
    "    '64': 'Pyrénées-Atlantiques',\n",
    "    '65': 'Hautes-Pyrénées', \n",
    "    '66': 'Pyrénées-Orientales', \n",
    "    '67': 'Bas-Rhin', \n",
    "    '68': 'Haut-Rhin', \n",
    "    '69': 'Rhône',\n",
    "    '70': 'Haute-Saône', \n",
    "    '71': 'Saône-et-Loire', \n",
    "    '72': 'Sarthe', \n",
    "    '73': 'Savoie', \n",
    "    '74': 'Haute-Savoie',\n",
    "    '75': 'Paris', \n",
    "    '76': 'Seine-Maritime', \n",
    "    '77': 'Seine-et-Marne', \n",
    "    '78': 'Yvelines', \n",
    "    '79': 'Deux-Sèvres',\n",
    "    '80': 'Somme', \n",
    "    '81': 'Tarn', \n",
    "    '82': 'Tarn-et-Garonne', \n",
    "    '83': 'Var', \n",
    "    '84': 'Vaucluse', \n",
    "    '85': 'Vendée',\n",
    "    '86': 'Vienne', \n",
    "    '87': 'Haute-Vienne', \n",
    "    '88': 'Vosges', \n",
    "    '89': 'Yonne', \n",
    "    '90': 'Territoire de Belfort',\n",
    "    '91': 'Essonne', \n",
    "    '92': 'Hauts-de-Seine', \n",
    "    '93': 'Seine-Saint-Denis', \n",
    "    '94': 'Val-de-Marne', \n",
    "    '95': 'Val-d\\'Oise',\n",
    "    '971': 'Guadeloupe', \n",
    "    '972': 'Martinique', \n",
    "    '973': 'Guyane', \n",
    "    '974': 'La Réunion', \n",
    "    '976': 'Mayotte',\n",
    "}\n",
    "\n",
    "with urlopen('https://raw.githubusercontent.com/gregoiredavid/france-geojson/master/departements-version-simplifiee.geojson') as response:\n",
    "  departements_france = json.load(response)\n",
    "\n",
    "with urlopen('https://raw.githubusercontent.com/gregoiredavid/france-geojson/master/regions-version-simplifiee.geojson') as response:\n",
    "  regions_france = json.load(response)\n",
    "\n",
    "with urlopen('https://raw.githubusercontent.com/gregoiredavid/france-geojson/master/communes-version-simplifiee.geojson') as response:\n",
    "  communes_france = json.load(response)"
   ]
  },
  {
   "cell_type": "code",
   "execution_count": 7,
   "id": "7c87a1d5",
   "metadata": {},
   "outputs": [],
   "source": [
    "def find_key(dico,v): \n",
    "    for k, val in dico.items(): \n",
    "        if v in val: \n",
    "            return k "
   ]
  },
  {
   "cell_type": "code",
   "execution_count": 6,
   "id": "12963f94",
   "metadata": {},
   "outputs": [
    {
     "ename": "NameError",
     "evalue": "name 'df_2020' is not defined",
     "output_type": "error",
     "traceback": [
      "\u001b[1;31m---------------------------------------------------------------------------\u001b[0m",
      "\u001b[1;31mNameError\u001b[0m                                 Traceback (most recent call last)",
      "\u001b[1;32mc:\\Users\\jetth\\OneDrive\\Documents\\Cours\\ESILV\\A3\\Python\\Projet\\Code.ipynb Cell 7'\u001b[0m in \u001b[0;36m<cell line: 2>\u001b[1;34m()\u001b[0m\n\u001b[0;32m      <a href='vscode-notebook-cell:/c%3A/Users/jetth/OneDrive/Documents/Cours/ESILV/A3/Python/Projet/Code.ipynb#ch0000006?line=0'>1</a>\u001b[0m \u001b[39m#ajout des régions dans le dataframe\u001b[39;00m\n\u001b[1;32m----> <a href='vscode-notebook-cell:/c%3A/Users/jetth/OneDrive/Documents/Cours/ESILV/A3/Python/Projet/Code.ipynb#ch0000006?line=1'>2</a>\u001b[0m df_2020[\u001b[39m\"\u001b[39m\u001b[39mRegions\u001b[39m\u001b[39m\"\u001b[39m] \u001b[39m=\u001b[39m \u001b[39mNone\u001b[39;00m\n\u001b[0;32m      <a href='vscode-notebook-cell:/c%3A/Users/jetth/OneDrive/Documents/Cours/ESILV/A3/Python/Projet/Code.ipynb#ch0000006?line=2'>3</a>\u001b[0m \u001b[39mdef\u001b[39;00m \u001b[39mfind_key\u001b[39m(dico,v): \n\u001b[0;32m      <a href='vscode-notebook-cell:/c%3A/Users/jetth/OneDrive/Documents/Cours/ESILV/A3/Python/Projet/Code.ipynb#ch0000006?line=3'>4</a>\u001b[0m     \u001b[39mfor\u001b[39;00m k, val \u001b[39min\u001b[39;00m dico\u001b[39m.\u001b[39mitems(): \n",
      "\u001b[1;31mNameError\u001b[0m: name 'df_2020' is not defined"
     ]
    }
   ],
   "source": [
    "#ajout des régions dans le dataframe\n",
    "df_2020[\"Regions\"] = None\n",
    "\n",
    "tab = []\n",
    "for i in df_2020[\"Code departement\"]:\n",
    "    tab.append(find_key(REGIONS, i))\n",
    "df_2020[\"Regions\"] = tab"
   ]
  },
  {
   "cell_type": "code",
   "execution_count": 8,
   "id": "2eebdf74",
   "metadata": {},
   "outputs": [],
   "source": [
    "#Calcul du prix au m², du rapport valeurs fonctières/nombre de piece des maisons et appartement\n",
    "#on met aussi a jour les noms des villes pour qu'ils correspondent au format des gesjson\n",
    "df_2020['Commune'] = df_2020['Commune'].apply(lambda x: x[:1] + x[1:].lower())\n",
    "df_2020[\"Prix au m2\"] = round(df_2020[\"Valeur fonciere\"]/df_2020[\"Surface terrain\"])\n",
    "df_2020[\"Rapport valeurs foncières / nombre de pieces\"] = round(df_2020[\"Valeur fonciere\"]/df_2020[\"Nombre pieces principales\"])\n",
    "Maison_mask = df_2020['Type local']=='Maison'\n",
    "Appart_mask = df_2020['Type local']=='Appartement'\n",
    "df_2020_habitation = df_2020[Maison_mask]\n",
    "df_2020_habitation = pd.concat([df_2020_habitation,df_2020[Appart_mask]])"
   ]
  },
  {
   "cell_type": "code",
   "execution_count": 9,
   "id": "b2fc27d0",
   "metadata": {},
   "outputs": [],
   "source": [
    "# fonction affichage d'une carte\n",
    "def plot_fig(data, geo, colonne, proprietes, zoom, latitude,variable):\n",
    "  fig = px.choropleth_mapbox(data, geojson=geo, locations=colonne, featureidkey=proprietes, color=variable, color_continuous_scale=\"Viridis\",\n",
    "                           mapbox_style=\"carto-positron\",\n",
    "                           zoom=zoom, center = {\"lat\": latitude, \"lon\": 2.351828},\n",
    "                           opacity=0.5, width=1400, height = 800)\n",
    "  fig.show()"
   ]
  },
  {
   "cell_type": "code",
   "execution_count": null,
   "id": "250f099e",
   "metadata": {
    "scrolled": true
   },
   "outputs": [],
   "source": [
    "#affichage des prix au m² par départements pour les appartements et maison\n",
    "plot_fig(df_2020_habitation, departements_france, 'Code departement', \"properties.code\", 5, 46.856578,'Prix au m2')"
   ]
  },
  {
   "cell_type": "code",
   "execution_count": null,
   "id": "9c47f94f",
   "metadata": {},
   "outputs": [],
   "source": [
    "#affichage des prix au m² par régions pour les appartements et maison\n",
    "plot_fig(df_2020_habitation, regions_france, 'Regions', \"properties.nom\", 5, 46.856578,'Prix au m2')"
   ]
  },
  {
   "cell_type": "code",
   "execution_count": null,
   "id": "8a73e999",
   "metadata": {},
   "outputs": [],
   "source": [
    "#Rapport valeurs foncières/nombre de piece par département\n",
    "plot_fig(df_2020_habitation, departements_france, 'Code departement', \"properties.code\", 5, 46.856578,'Rapport valeurs foncières / nombre de pieces')"
   ]
  },
  {
   "cell_type": "code",
   "execution_count": null,
   "id": "692802e5",
   "metadata": {},
   "outputs": [],
   "source": [
    "#Rapport valeurs foncières/nombre de piece par régions\n",
    "plot_fig(df_2020_habitation, regions_france, 'Regions', \"properties.nom\", 5, 46.856578,'Rapport valeurs foncières / nombre de pieces')"
   ]
  },
  {
   "cell_type": "code",
   "execution_count": null,
   "id": "c623d96b",
   "metadata": {},
   "outputs": [],
   "source": [
    "#Calcul des prix au m² des maisons et appartement par commune\n",
    "df_2020_prixm2_par_commune = df_2020_habitation[['Commune','Prix au m2']].groupby('Commune').mean()\n",
    "df_2020_prixm2_par_commune['Commune'] = df_2020_prixm2_par_commune.index"
   ]
  },
  {
   "cell_type": "code",
   "execution_count": null,
   "id": "0744f068",
   "metadata": {},
   "outputs": [],
   "source": [
    "#prix au m2 des maisons et appartement par commune\n",
    "plot_fig(df_2020_habitation, communes_france, 'Commune', \"properties.nom\", 5, 46.856578,'Prix au m2')"
   ]
  },
  {
   "cell_type": "code",
   "execution_count": null,
   "id": "45e0c310",
   "metadata": {},
   "outputs": [],
   "source": [
    "#prix au m2 des local industriel et commercial\n",
    "Local_mask = df_2020['Type local']=='Local industriel. commercial ou assimilé'\n",
    "df_2020_local = df_2020[Local_mask]"
   ]
  },
  {
   "cell_type": "code",
   "execution_count": null,
   "id": "2a557927",
   "metadata": {},
   "outputs": [],
   "source": [
    "#Calcul des prix au m² des locaux industriels et commercial par région\n",
    "plot_fig(df_2020_local, regions_france, 'Regions', \"properties.nom\", 5, 46.856578,'Prix au m2')"
   ]
  },
  {
   "cell_type": "code",
   "execution_count": null,
   "id": "c0f15d15",
   "metadata": {},
   "outputs": [],
   "source": [
    "#Calcul des prix au m² des locaux industriels et commercial par département\n",
    "plot_fig(df_2020_local, departements_france, 'Code departement', \"properties.code\", 5, 46.856578,'Prix au m2')"
   ]
  },
  {
   "cell_type": "code",
   "execution_count": null,
   "id": "d0043ecb",
   "metadata": {},
   "outputs": [],
   "source": [
    "#Calcul des prix au m² des locaux industriels et commercial par ville\n",
    "plot_fig(df_2020_local, communes_france, 'Commune', \"properties.nom\", 5, 46.856578,'Prix au m2')"
   ]
  },
  {
   "cell_type": "code",
   "execution_count": null,
   "id": "be9a7dec",
   "metadata": {},
   "outputs": [],
   "source": [
    "#moyenne des surfaces vendues par régions\n",
    "plot_fig(df_2020, regions_france, 'Regions', \"properties.nom\", 5, 46.856578,'Surface terrain')"
   ]
  },
  {
   "cell_type": "code",
   "execution_count": null,
   "id": "6fd727ae",
   "metadata": {},
   "outputs": [],
   "source": [
    "#Calcul des prix au m² des locaux industriels et commercial par département\n",
    "plot_fig(df_2020, departements_france, 'Code departement', \"properties.code\", 5, 46.856578,'Surface terrain')"
   ]
  },
  {
   "cell_type": "code",
   "execution_count": null,
   "id": "e0af14d2",
   "metadata": {},
   "outputs": [],
   "source": [
    "#Valeur foncière d'un culture nature par région\n",
    "def look_by_nat_cult(data,attribut, nat_cult):\n",
    "    data_natcult = data[\"Nature culture\"]==nat_cult\n",
    "    return data[data_natcult].groupby(attribut).mean()[\"Valeur fonciere\"]\n",
    "    \n",
    "nature_culture = dict()\n",
    "for k in df_2020.groupby('Nature culture').sum().axes[0]:\n",
    "    nature_culture.update({k:look_by_nat_cult(df_2020, \"Regions\", k)})\n",
    "nature_culture = pd.DataFrame(data=nature_culture)\n",
    "\n",
    "def nc_val_fonc_by_reg(data, nat_cul):\n",
    "    fig=px.bar(data[nat_cul], height=500, width=800,color=range(len(REGIONS.keys())),title=f\"Valeur foncière d'une culture de nature {nat_cul} par région\")\n",
    "    fig.update_layout(yaxis_title=\"Valeur  Foncière\")\n",
    "    fig.show()\n",
    "for k in df_2020.groupby('Nature culture').sum().axes[0]:\n",
    "    nc_val_fonc_by_reg(nature_culture, k)\n"
   ]
  },
  {
   "cell_type": "markdown",
   "id": "12c5aea9",
   "metadata": {},
   "source": [
    "Evolution par Année"
   ]
  },
  {
   "cell_type": "code",
   "execution_count": 28,
   "id": "b65c600a",
   "metadata": {},
   "outputs": [],
   "source": [
    "#import de l'ensemble des données\n",
    "df_2017 = pd.read_csv('valeursfoncieres-2017.txt', sep=\"|\",low_memory=False,decimal=',')\n",
    "df_2018 = pd.read_csv('valeursfoncieres-2018.txt', sep=\"|\",low_memory=False,decimal=',')\n",
    "df_2019 = pd.read_csv('valeursfoncieres-2019.txt', sep=\"|\",low_memory=False,decimal=',')\n",
    "df_2020 = pd.read_csv('valeursfoncieres-2020.txt', sep=\"|\",low_memory=False,decimal=',')\n",
    "df_2021 = pd.read_csv('valeursfoncieres-2021.txt', sep=\"|\",low_memory=False,decimal=',')\n",
    "\n",
    "year = [2017, 2018, 2019, 2020, 2021]\n",
    "\n",
    "df_2017 = ColonneVide(df_2017)\n",
    "df_2018 = ColonneVide(df_2018)\n",
    "df_2019 = ColonneVide(df_2019)\n",
    "df_2020 = ColonneVide(df_2020)\n",
    "df_2021 = ColonneVide(df_2021)\n"
   ]
  },
  {
   "cell_type": "code",
   "execution_count": 29,
   "id": "818dd698",
   "metadata": {},
   "outputs": [],
   "source": [
    "def addRegions(data):\n",
    "    tab = []\n",
    "    for i in data[\"Code departement\"]:\n",
    "        tab.append(find_key(REGIONS, i))\n",
    "    data[\"Region\"] = tab\n",
    "    return data"
   ]
  },
  {
   "cell_type": "code",
   "execution_count": 30,
   "id": "f73b0ad6",
   "metadata": {},
   "outputs": [],
   "source": [
    "df_2017 = addRegions(df_2017)\n",
    "df_2018 = addRegions(df_2018)\n",
    "df_2019 = addRegions(df_2019)\n",
    "df_2020 = addRegions(df_2020)\n",
    "df_2021 = addRegions(df_2021)"
   ]
  },
  {
   "cell_type": "code",
   "execution_count": 31,
   "id": "c5c0115e",
   "metadata": {},
   "outputs": [],
   "source": [
    "\n",
    "df_2017[\"Prix au m²\"] = df_2017[\"Valeur fonciere\"].div(df_2017[\"Surface terrain\"], fill_value=1)\n",
    "df_2018[\"Prix au m²\"] = df_2018[\"Valeur fonciere\"].div(df_2018[\"Surface terrain\"], fill_value=1)\n",
    "df_2019[\"Prix au m²\"] = df_2019[\"Valeur fonciere\"].div(df_2019[\"Surface terrain\"], fill_value=1)\n",
    "df_2020[\"Prix au m²\"] = df_2020[\"Valeur fonciere\"].div(df_2020[\"Surface terrain\"], fill_value=1)\n",
    "df_2021[\"Prix au m²\"] = df_2021[\"Valeur fonciere\"].div(df_2021[\"Surface terrain\"], fill_value=1)\n",
    "\n",
    "\n"
   ]
  },
  {
   "cell_type": "code",
   "execution_count": 56,
   "id": "cc2e97d7",
   "metadata": {},
   "outputs": [],
   "source": [
    "def plot_time_line_reg(col,region,title=\"\",yaxis_title=\"\", slide = False):\n",
    "    \n",
    "    \n",
    "    T2017 = df_2017.loc[df_2017[\"Region\"] == region]\n",
    "    T2018 = df_2018.loc[df_2018[\"Region\"] == region]\n",
    "    T2019 = df_2019.loc[df_2019[\"Region\"] == region]\n",
    "    T2020 = df_2020.loc[df_2020[\"Region\"] == region]\n",
    "    T2021 = df_2021.loc[df_2021[\"Region\"] == region]\n",
    "    \n",
    "    \n",
    "    tmp = dict()\n",
    "    tmp.update({col : [statistics.mean(T2017), T2018[['Prix au m²']].mean(), T2019[['Prix au m²']].mean(), T2020[['Prix au m²']].mean(), T2021[['Prix au m²']].mean()]})\n",
    "    \n",
    "    print(tmp)\n",
    "    evo_reg = pd.DataFrame(data=tmp)\n",
    "    \n",
    "    fig = px.line(evo_reg,x=year, y=col ,width=700)\n",
    "    fig.update_layout(title=(col if title==\"\" else title), xaxis_title=\"Date\", yaxis_title=yaxis_title)\n",
    "    if(slide):\n",
    "        fig.update_layout(xaxis_rangeslider_visible=True)\n",
    "    fig.show()\n"
   ]
  },
  {
   "cell_type": "code",
   "execution_count": 55,
   "id": "43f13e53",
   "metadata": {},
   "outputs": [
    {
     "name": "stdout",
     "output_type": "stream",
     "text": [
      "         No disposition Date mutation Nature mutation  Valeur fonciere  \\\n",
      "385168                1    07/01/2017           Vente          10000.0   \n",
      "385169                1    12/01/2017           Vente          70000.0   \n",
      "385170                1    12/01/2017           Vente          70000.0   \n",
      "385171                1    12/01/2017           Vente          70000.0   \n",
      "385172                1    12/01/2017           Vente          70000.0   \n",
      "...                 ...           ...             ...              ...   \n",
      "2548665               1    13/12/2017           Vente         110000.0   \n",
      "2548666               1    21/12/2017           Vente          90000.0   \n",
      "2548667               1    21/12/2017           Vente          90000.0   \n",
      "2548668               1    21/12/2017           Vente          90000.0   \n",
      "2548669               1    21/12/2017           Vente          90000.0   \n",
      "\n",
      "         No voie B/T/Q Type de voie Code voie           Voie  Code postal  \\\n",
      "385168       3.0   NaN          RUE      1776  CLAUDE CHAPPE      14000.0   \n",
      "385169    5054.0   NaN          CHE      0012   DES FRESNOTS      14190.0   \n",
      "385170    5054.0   NaN          CHE      0012   DES FRESNOTS      14190.0   \n",
      "385171       NaN   NaN          NaN      B018   LES FRESNOTS      14190.0   \n",
      "385172       NaN   NaN          NaN      B018   LES FRESNOTS      14190.0   \n",
      "...          ...   ...          ...       ...            ...          ...   \n",
      "2548665      5.0   NaN          RTE      0319      DE DIEPPE      76460.0   \n",
      "2548666     20.0     B          RTE      2190      DE FECAMP      76450.0   \n",
      "2548667     18.0   NaN          RTE      2190      DE FECAMP      76450.0   \n",
      "2548668     18.0   NaN          RTE      2190      DE FECAMP      76450.0   \n",
      "2548669     18.0   NaN          RTE      2190      DE FECAMP      76450.0   \n",
      "\n",
      "         ... Nombre de lots Code type local  \\\n",
      "385168   ...              1             3.0   \n",
      "385169   ...              0             4.0   \n",
      "385170   ...              0             4.0   \n",
      "385171   ...              0             NaN   \n",
      "385172   ...              0             NaN   \n",
      "...      ...            ...             ...   \n",
      "2548665  ...              0             4.0   \n",
      "2548666  ...              0             4.0   \n",
      "2548667  ...              0             NaN   \n",
      "2548668  ...              0             NaN   \n",
      "2548669  ...              0             NaN   \n",
      "\n",
      "                                       Type local  Surface reelle bati  \\\n",
      "385168                                 Dépendance                  0.0   \n",
      "385169   Local industriel. commercial ou assimilé              48900.0   \n",
      "385170   Local industriel. commercial ou assimilé                235.0   \n",
      "385171                                        NaN                  NaN   \n",
      "385172                                        NaN                  NaN   \n",
      "...                                           ...                  ...   \n",
      "2548665  Local industriel. commercial ou assimilé                  9.0   \n",
      "2548666  Local industriel. commercial ou assimilé                317.0   \n",
      "2548667                                       NaN                  NaN   \n",
      "2548668                                       NaN                  NaN   \n",
      "2548669                                       NaN                  NaN   \n",
      "\n",
      "        Nombre pieces principales  Nature culture Nature culture speciale  \\\n",
      "385168                        0.0             NaN                     NaN   \n",
      "385169                        0.0               S                     NaN   \n",
      "385170                        0.0               S                     NaN   \n",
      "385171                        NaN               S                     NaN   \n",
      "385172                        NaN               S                     NaN   \n",
      "...                           ...             ...                     ...   \n",
      "2548665                       0.0               S                     NaN   \n",
      "2548666                       0.0               S                     NaN   \n",
      "2548667                       NaN               S                     NaN   \n",
      "2548668                       NaN              BF                     NaN   \n",
      "2548669                       NaN               S                     NaN   \n",
      "\n",
      "        Surface terrain     Region    Prix au m²  \n",
      "385168              NaN  Normandie  10000.000000  \n",
      "385169           2410.0  Normandie     29.045643  \n",
      "385170           2410.0  Normandie     29.045643  \n",
      "385171            109.0  Normandie    642.201835  \n",
      "385172           2200.0  Normandie     31.818182  \n",
      "...                 ...        ...           ...  \n",
      "2548665           123.0  Normandie    894.308943  \n",
      "2548666           228.0  Normandie    394.736842  \n",
      "2548667            67.0  Normandie   1343.283582  \n",
      "2548668            99.0  Normandie    909.090909  \n",
      "2548669            22.0  Normandie   4090.909091  \n",
      "\n",
      "[165127 rows x 37 columns]\n"
     ]
    },
    {
     "data": {
      "application/vnd.plotly.v1+json": {
       "config": {
        "plotlyServerURL": "https://plot.ly"
       },
       "data": [
        {
         "hovertemplate": "x=%{x}<br>Prix au m²=%{y}<extra></extra>",
         "legendgroup": "",
         "line": {
          "color": "#636efa",
          "dash": "solid"
         },
         "marker": {
          "symbol": "circle"
         },
         "mode": "lines",
         "name": "",
         "orientation": "h",
         "showlegend": false,
         "type": "scatter",
         "x": [
          2017,
          2018,
          2019,
          2020,
          2021
         ],
         "xaxis": "x",
         "y": [
          [
           null
          ],
          [
           156041.26292166207
          ],
          [
           null
          ],
          [
           null
          ],
          [
           null
          ]
         ],
         "yaxis": "y"
        }
       ],
       "layout": {
        "legend": {
         "tracegroupgap": 0
        },
        "margin": {
         "t": 60
        },
        "template": {
         "data": {
          "bar": [
           {
            "error_x": {
             "color": "#2a3f5f"
            },
            "error_y": {
             "color": "#2a3f5f"
            },
            "marker": {
             "line": {
              "color": "#E5ECF6",
              "width": 0.5
             },
             "pattern": {
              "fillmode": "overlay",
              "size": 10,
              "solidity": 0.2
             }
            },
            "type": "bar"
           }
          ],
          "barpolar": [
           {
            "marker": {
             "line": {
              "color": "#E5ECF6",
              "width": 0.5
             },
             "pattern": {
              "fillmode": "overlay",
              "size": 10,
              "solidity": 0.2
             }
            },
            "type": "barpolar"
           }
          ],
          "carpet": [
           {
            "aaxis": {
             "endlinecolor": "#2a3f5f",
             "gridcolor": "white",
             "linecolor": "white",
             "minorgridcolor": "white",
             "startlinecolor": "#2a3f5f"
            },
            "baxis": {
             "endlinecolor": "#2a3f5f",
             "gridcolor": "white",
             "linecolor": "white",
             "minorgridcolor": "white",
             "startlinecolor": "#2a3f5f"
            },
            "type": "carpet"
           }
          ],
          "choropleth": [
           {
            "colorbar": {
             "outlinewidth": 0,
             "ticks": ""
            },
            "type": "choropleth"
           }
          ],
          "contour": [
           {
            "colorbar": {
             "outlinewidth": 0,
             "ticks": ""
            },
            "colorscale": [
             [
              0,
              "#0d0887"
             ],
             [
              0.1111111111111111,
              "#46039f"
             ],
             [
              0.2222222222222222,
              "#7201a8"
             ],
             [
              0.3333333333333333,
              "#9c179e"
             ],
             [
              0.4444444444444444,
              "#bd3786"
             ],
             [
              0.5555555555555556,
              "#d8576b"
             ],
             [
              0.6666666666666666,
              "#ed7953"
             ],
             [
              0.7777777777777778,
              "#fb9f3a"
             ],
             [
              0.8888888888888888,
              "#fdca26"
             ],
             [
              1,
              "#f0f921"
             ]
            ],
            "type": "contour"
           }
          ],
          "contourcarpet": [
           {
            "colorbar": {
             "outlinewidth": 0,
             "ticks": ""
            },
            "type": "contourcarpet"
           }
          ],
          "heatmap": [
           {
            "colorbar": {
             "outlinewidth": 0,
             "ticks": ""
            },
            "colorscale": [
             [
              0,
              "#0d0887"
             ],
             [
              0.1111111111111111,
              "#46039f"
             ],
             [
              0.2222222222222222,
              "#7201a8"
             ],
             [
              0.3333333333333333,
              "#9c179e"
             ],
             [
              0.4444444444444444,
              "#bd3786"
             ],
             [
              0.5555555555555556,
              "#d8576b"
             ],
             [
              0.6666666666666666,
              "#ed7953"
             ],
             [
              0.7777777777777778,
              "#fb9f3a"
             ],
             [
              0.8888888888888888,
              "#fdca26"
             ],
             [
              1,
              "#f0f921"
             ]
            ],
            "type": "heatmap"
           }
          ],
          "heatmapgl": [
           {
            "colorbar": {
             "outlinewidth": 0,
             "ticks": ""
            },
            "colorscale": [
             [
              0,
              "#0d0887"
             ],
             [
              0.1111111111111111,
              "#46039f"
             ],
             [
              0.2222222222222222,
              "#7201a8"
             ],
             [
              0.3333333333333333,
              "#9c179e"
             ],
             [
              0.4444444444444444,
              "#bd3786"
             ],
             [
              0.5555555555555556,
              "#d8576b"
             ],
             [
              0.6666666666666666,
              "#ed7953"
             ],
             [
              0.7777777777777778,
              "#fb9f3a"
             ],
             [
              0.8888888888888888,
              "#fdca26"
             ],
             [
              1,
              "#f0f921"
             ]
            ],
            "type": "heatmapgl"
           }
          ],
          "histogram": [
           {
            "marker": {
             "pattern": {
              "fillmode": "overlay",
              "size": 10,
              "solidity": 0.2
             }
            },
            "type": "histogram"
           }
          ],
          "histogram2d": [
           {
            "colorbar": {
             "outlinewidth": 0,
             "ticks": ""
            },
            "colorscale": [
             [
              0,
              "#0d0887"
             ],
             [
              0.1111111111111111,
              "#46039f"
             ],
             [
              0.2222222222222222,
              "#7201a8"
             ],
             [
              0.3333333333333333,
              "#9c179e"
             ],
             [
              0.4444444444444444,
              "#bd3786"
             ],
             [
              0.5555555555555556,
              "#d8576b"
             ],
             [
              0.6666666666666666,
              "#ed7953"
             ],
             [
              0.7777777777777778,
              "#fb9f3a"
             ],
             [
              0.8888888888888888,
              "#fdca26"
             ],
             [
              1,
              "#f0f921"
             ]
            ],
            "type": "histogram2d"
           }
          ],
          "histogram2dcontour": [
           {
            "colorbar": {
             "outlinewidth": 0,
             "ticks": ""
            },
            "colorscale": [
             [
              0,
              "#0d0887"
             ],
             [
              0.1111111111111111,
              "#46039f"
             ],
             [
              0.2222222222222222,
              "#7201a8"
             ],
             [
              0.3333333333333333,
              "#9c179e"
             ],
             [
              0.4444444444444444,
              "#bd3786"
             ],
             [
              0.5555555555555556,
              "#d8576b"
             ],
             [
              0.6666666666666666,
              "#ed7953"
             ],
             [
              0.7777777777777778,
              "#fb9f3a"
             ],
             [
              0.8888888888888888,
              "#fdca26"
             ],
             [
              1,
              "#f0f921"
             ]
            ],
            "type": "histogram2dcontour"
           }
          ],
          "mesh3d": [
           {
            "colorbar": {
             "outlinewidth": 0,
             "ticks": ""
            },
            "type": "mesh3d"
           }
          ],
          "parcoords": [
           {
            "line": {
             "colorbar": {
              "outlinewidth": 0,
              "ticks": ""
             }
            },
            "type": "parcoords"
           }
          ],
          "pie": [
           {
            "automargin": true,
            "type": "pie"
           }
          ],
          "scatter": [
           {
            "fillpattern": {
             "fillmode": "overlay",
             "size": 10,
             "solidity": 0.2
            },
            "type": "scatter"
           }
          ],
          "scatter3d": [
           {
            "line": {
             "colorbar": {
              "outlinewidth": 0,
              "ticks": ""
             }
            },
            "marker": {
             "colorbar": {
              "outlinewidth": 0,
              "ticks": ""
             }
            },
            "type": "scatter3d"
           }
          ],
          "scattercarpet": [
           {
            "marker": {
             "colorbar": {
              "outlinewidth": 0,
              "ticks": ""
             }
            },
            "type": "scattercarpet"
           }
          ],
          "scattergeo": [
           {
            "marker": {
             "colorbar": {
              "outlinewidth": 0,
              "ticks": ""
             }
            },
            "type": "scattergeo"
           }
          ],
          "scattergl": [
           {
            "marker": {
             "colorbar": {
              "outlinewidth": 0,
              "ticks": ""
             }
            },
            "type": "scattergl"
           }
          ],
          "scattermapbox": [
           {
            "marker": {
             "colorbar": {
              "outlinewidth": 0,
              "ticks": ""
             }
            },
            "type": "scattermapbox"
           }
          ],
          "scatterpolar": [
           {
            "marker": {
             "colorbar": {
              "outlinewidth": 0,
              "ticks": ""
             }
            },
            "type": "scatterpolar"
           }
          ],
          "scatterpolargl": [
           {
            "marker": {
             "colorbar": {
              "outlinewidth": 0,
              "ticks": ""
             }
            },
            "type": "scatterpolargl"
           }
          ],
          "scatterternary": [
           {
            "marker": {
             "colorbar": {
              "outlinewidth": 0,
              "ticks": ""
             }
            },
            "type": "scatterternary"
           }
          ],
          "surface": [
           {
            "colorbar": {
             "outlinewidth": 0,
             "ticks": ""
            },
            "colorscale": [
             [
              0,
              "#0d0887"
             ],
             [
              0.1111111111111111,
              "#46039f"
             ],
             [
              0.2222222222222222,
              "#7201a8"
             ],
             [
              0.3333333333333333,
              "#9c179e"
             ],
             [
              0.4444444444444444,
              "#bd3786"
             ],
             [
              0.5555555555555556,
              "#d8576b"
             ],
             [
              0.6666666666666666,
              "#ed7953"
             ],
             [
              0.7777777777777778,
              "#fb9f3a"
             ],
             [
              0.8888888888888888,
              "#fdca26"
             ],
             [
              1,
              "#f0f921"
             ]
            ],
            "type": "surface"
           }
          ],
          "table": [
           {
            "cells": {
             "fill": {
              "color": "#EBF0F8"
             },
             "line": {
              "color": "white"
             }
            },
            "header": {
             "fill": {
              "color": "#C8D4E3"
             },
             "line": {
              "color": "white"
             }
            },
            "type": "table"
           }
          ]
         },
         "layout": {
          "annotationdefaults": {
           "arrowcolor": "#2a3f5f",
           "arrowhead": 0,
           "arrowwidth": 1
          },
          "autotypenumbers": "strict",
          "coloraxis": {
           "colorbar": {
            "outlinewidth": 0,
            "ticks": ""
           }
          },
          "colorscale": {
           "diverging": [
            [
             0,
             "#8e0152"
            ],
            [
             0.1,
             "#c51b7d"
            ],
            [
             0.2,
             "#de77ae"
            ],
            [
             0.3,
             "#f1b6da"
            ],
            [
             0.4,
             "#fde0ef"
            ],
            [
             0.5,
             "#f7f7f7"
            ],
            [
             0.6,
             "#e6f5d0"
            ],
            [
             0.7,
             "#b8e186"
            ],
            [
             0.8,
             "#7fbc41"
            ],
            [
             0.9,
             "#4d9221"
            ],
            [
             1,
             "#276419"
            ]
           ],
           "sequential": [
            [
             0,
             "#0d0887"
            ],
            [
             0.1111111111111111,
             "#46039f"
            ],
            [
             0.2222222222222222,
             "#7201a8"
            ],
            [
             0.3333333333333333,
             "#9c179e"
            ],
            [
             0.4444444444444444,
             "#bd3786"
            ],
            [
             0.5555555555555556,
             "#d8576b"
            ],
            [
             0.6666666666666666,
             "#ed7953"
            ],
            [
             0.7777777777777778,
             "#fb9f3a"
            ],
            [
             0.8888888888888888,
             "#fdca26"
            ],
            [
             1,
             "#f0f921"
            ]
           ],
           "sequentialminus": [
            [
             0,
             "#0d0887"
            ],
            [
             0.1111111111111111,
             "#46039f"
            ],
            [
             0.2222222222222222,
             "#7201a8"
            ],
            [
             0.3333333333333333,
             "#9c179e"
            ],
            [
             0.4444444444444444,
             "#bd3786"
            ],
            [
             0.5555555555555556,
             "#d8576b"
            ],
            [
             0.6666666666666666,
             "#ed7953"
            ],
            [
             0.7777777777777778,
             "#fb9f3a"
            ],
            [
             0.8888888888888888,
             "#fdca26"
            ],
            [
             1,
             "#f0f921"
            ]
           ]
          },
          "colorway": [
           "#636efa",
           "#EF553B",
           "#00cc96",
           "#ab63fa",
           "#FFA15A",
           "#19d3f3",
           "#FF6692",
           "#B6E880",
           "#FF97FF",
           "#FECB52"
          ],
          "font": {
           "color": "#2a3f5f"
          },
          "geo": {
           "bgcolor": "white",
           "lakecolor": "white",
           "landcolor": "#E5ECF6",
           "showlakes": true,
           "showland": true,
           "subunitcolor": "white"
          },
          "hoverlabel": {
           "align": "left"
          },
          "hovermode": "closest",
          "mapbox": {
           "style": "light"
          },
          "paper_bgcolor": "white",
          "plot_bgcolor": "#E5ECF6",
          "polar": {
           "angularaxis": {
            "gridcolor": "white",
            "linecolor": "white",
            "ticks": ""
           },
           "bgcolor": "#E5ECF6",
           "radialaxis": {
            "gridcolor": "white",
            "linecolor": "white",
            "ticks": ""
           }
          },
          "scene": {
           "xaxis": {
            "backgroundcolor": "#E5ECF6",
            "gridcolor": "white",
            "gridwidth": 2,
            "linecolor": "white",
            "showbackground": true,
            "ticks": "",
            "zerolinecolor": "white"
           },
           "yaxis": {
            "backgroundcolor": "#E5ECF6",
            "gridcolor": "white",
            "gridwidth": 2,
            "linecolor": "white",
            "showbackground": true,
            "ticks": "",
            "zerolinecolor": "white"
           },
           "zaxis": {
            "backgroundcolor": "#E5ECF6",
            "gridcolor": "white",
            "gridwidth": 2,
            "linecolor": "white",
            "showbackground": true,
            "ticks": "",
            "zerolinecolor": "white"
           }
          },
          "shapedefaults": {
           "line": {
            "color": "#2a3f5f"
           }
          },
          "ternary": {
           "aaxis": {
            "gridcolor": "white",
            "linecolor": "white",
            "ticks": ""
           },
           "baxis": {
            "gridcolor": "white",
            "linecolor": "white",
            "ticks": ""
           },
           "bgcolor": "#E5ECF6",
           "caxis": {
            "gridcolor": "white",
            "linecolor": "white",
            "ticks": ""
           }
          },
          "title": {
           "x": 0.05
          },
          "xaxis": {
           "automargin": true,
           "gridcolor": "white",
           "linecolor": "white",
           "ticks": "",
           "title": {
            "standoff": 15
           },
           "zerolinecolor": "white",
           "zerolinewidth": 2
          },
          "yaxis": {
           "automargin": true,
           "gridcolor": "white",
           "linecolor": "white",
           "ticks": "",
           "title": {
            "standoff": 15
           },
           "zerolinecolor": "white",
           "zerolinewidth": 2
          }
         }
        },
        "title": {
         "text": "Evolution du prix au m²"
        },
        "width": 700,
        "xaxis": {
         "anchor": "y",
         "domain": [
          0,
          1
         ],
         "title": {
          "text": "Date"
         }
        },
        "yaxis": {
         "anchor": "x",
         "domain": [
          0,
          1
         ],
         "title": {
          "text": "Prix au m²"
         }
        }
       }
      },
      "text/html": [
       "<div>                            <div id=\"f762f8c6-e68f-458e-afab-63f2d7d763b1\" class=\"plotly-graph-div\" style=\"height:525px; width:700px;\"></div>            <script type=\"text/javascript\">                require([\"plotly\"], function(Plotly) {                    window.PLOTLYENV=window.PLOTLYENV || {};                                    if (document.getElementById(\"f762f8c6-e68f-458e-afab-63f2d7d763b1\")) {                    Plotly.newPlot(                        \"f762f8c6-e68f-458e-afab-63f2d7d763b1\",                        [{\"hovertemplate\":\"x=%{x}<br>Prix au m\\u00b2=%{y}<extra></extra>\",\"legendgroup\":\"\",\"line\":{\"color\":\"#636efa\",\"dash\":\"solid\"},\"marker\":{\"symbol\":\"circle\"},\"mode\":\"lines\",\"name\":\"\",\"orientation\":\"h\",\"showlegend\":false,\"x\":[2017,2018,2019,2020,2021],\"xaxis\":\"x\",\"y\":[[null],[156041.26292166207],[null],[null],[null]],\"yaxis\":\"y\",\"type\":\"scatter\"}],                        {\"template\":{\"data\":{\"histogram2dcontour\":[{\"type\":\"histogram2dcontour\",\"colorbar\":{\"outlinewidth\":0,\"ticks\":\"\"},\"colorscale\":[[0.0,\"#0d0887\"],[0.1111111111111111,\"#46039f\"],[0.2222222222222222,\"#7201a8\"],[0.3333333333333333,\"#9c179e\"],[0.4444444444444444,\"#bd3786\"],[0.5555555555555556,\"#d8576b\"],[0.6666666666666666,\"#ed7953\"],[0.7777777777777778,\"#fb9f3a\"],[0.8888888888888888,\"#fdca26\"],[1.0,\"#f0f921\"]]}],\"choropleth\":[{\"type\":\"choropleth\",\"colorbar\":{\"outlinewidth\":0,\"ticks\":\"\"}}],\"histogram2d\":[{\"type\":\"histogram2d\",\"colorbar\":{\"outlinewidth\":0,\"ticks\":\"\"},\"colorscale\":[[0.0,\"#0d0887\"],[0.1111111111111111,\"#46039f\"],[0.2222222222222222,\"#7201a8\"],[0.3333333333333333,\"#9c179e\"],[0.4444444444444444,\"#bd3786\"],[0.5555555555555556,\"#d8576b\"],[0.6666666666666666,\"#ed7953\"],[0.7777777777777778,\"#fb9f3a\"],[0.8888888888888888,\"#fdca26\"],[1.0,\"#f0f921\"]]}],\"heatmap\":[{\"type\":\"heatmap\",\"colorbar\":{\"outlinewidth\":0,\"ticks\":\"\"},\"colorscale\":[[0.0,\"#0d0887\"],[0.1111111111111111,\"#46039f\"],[0.2222222222222222,\"#7201a8\"],[0.3333333333333333,\"#9c179e\"],[0.4444444444444444,\"#bd3786\"],[0.5555555555555556,\"#d8576b\"],[0.6666666666666666,\"#ed7953\"],[0.7777777777777778,\"#fb9f3a\"],[0.8888888888888888,\"#fdca26\"],[1.0,\"#f0f921\"]]}],\"heatmapgl\":[{\"type\":\"heatmapgl\",\"colorbar\":{\"outlinewidth\":0,\"ticks\":\"\"},\"colorscale\":[[0.0,\"#0d0887\"],[0.1111111111111111,\"#46039f\"],[0.2222222222222222,\"#7201a8\"],[0.3333333333333333,\"#9c179e\"],[0.4444444444444444,\"#bd3786\"],[0.5555555555555556,\"#d8576b\"],[0.6666666666666666,\"#ed7953\"],[0.7777777777777778,\"#fb9f3a\"],[0.8888888888888888,\"#fdca26\"],[1.0,\"#f0f921\"]]}],\"contourcarpet\":[{\"type\":\"contourcarpet\",\"colorbar\":{\"outlinewidth\":0,\"ticks\":\"\"}}],\"contour\":[{\"type\":\"contour\",\"colorbar\":{\"outlinewidth\":0,\"ticks\":\"\"},\"colorscale\":[[0.0,\"#0d0887\"],[0.1111111111111111,\"#46039f\"],[0.2222222222222222,\"#7201a8\"],[0.3333333333333333,\"#9c179e\"],[0.4444444444444444,\"#bd3786\"],[0.5555555555555556,\"#d8576b\"],[0.6666666666666666,\"#ed7953\"],[0.7777777777777778,\"#fb9f3a\"],[0.8888888888888888,\"#fdca26\"],[1.0,\"#f0f921\"]]}],\"surface\":[{\"type\":\"surface\",\"colorbar\":{\"outlinewidth\":0,\"ticks\":\"\"},\"colorscale\":[[0.0,\"#0d0887\"],[0.1111111111111111,\"#46039f\"],[0.2222222222222222,\"#7201a8\"],[0.3333333333333333,\"#9c179e\"],[0.4444444444444444,\"#bd3786\"],[0.5555555555555556,\"#d8576b\"],[0.6666666666666666,\"#ed7953\"],[0.7777777777777778,\"#fb9f3a\"],[0.8888888888888888,\"#fdca26\"],[1.0,\"#f0f921\"]]}],\"mesh3d\":[{\"type\":\"mesh3d\",\"colorbar\":{\"outlinewidth\":0,\"ticks\":\"\"}}],\"scatter\":[{\"fillpattern\":{\"fillmode\":\"overlay\",\"size\":10,\"solidity\":0.2},\"type\":\"scatter\"}],\"parcoords\":[{\"type\":\"parcoords\",\"line\":{\"colorbar\":{\"outlinewidth\":0,\"ticks\":\"\"}}}],\"scatterpolargl\":[{\"type\":\"scatterpolargl\",\"marker\":{\"colorbar\":{\"outlinewidth\":0,\"ticks\":\"\"}}}],\"bar\":[{\"error_x\":{\"color\":\"#2a3f5f\"},\"error_y\":{\"color\":\"#2a3f5f\"},\"marker\":{\"line\":{\"color\":\"#E5ECF6\",\"width\":0.5},\"pattern\":{\"fillmode\":\"overlay\",\"size\":10,\"solidity\":0.2}},\"type\":\"bar\"}],\"scattergeo\":[{\"type\":\"scattergeo\",\"marker\":{\"colorbar\":{\"outlinewidth\":0,\"ticks\":\"\"}}}],\"scatterpolar\":[{\"type\":\"scatterpolar\",\"marker\":{\"colorbar\":{\"outlinewidth\":0,\"ticks\":\"\"}}}],\"histogram\":[{\"marker\":{\"pattern\":{\"fillmode\":\"overlay\",\"size\":10,\"solidity\":0.2}},\"type\":\"histogram\"}],\"scattergl\":[{\"type\":\"scattergl\",\"marker\":{\"colorbar\":{\"outlinewidth\":0,\"ticks\":\"\"}}}],\"scatter3d\":[{\"type\":\"scatter3d\",\"line\":{\"colorbar\":{\"outlinewidth\":0,\"ticks\":\"\"}},\"marker\":{\"colorbar\":{\"outlinewidth\":0,\"ticks\":\"\"}}}],\"scattermapbox\":[{\"type\":\"scattermapbox\",\"marker\":{\"colorbar\":{\"outlinewidth\":0,\"ticks\":\"\"}}}],\"scatterternary\":[{\"type\":\"scatterternary\",\"marker\":{\"colorbar\":{\"outlinewidth\":0,\"ticks\":\"\"}}}],\"scattercarpet\":[{\"type\":\"scattercarpet\",\"marker\":{\"colorbar\":{\"outlinewidth\":0,\"ticks\":\"\"}}}],\"carpet\":[{\"aaxis\":{\"endlinecolor\":\"#2a3f5f\",\"gridcolor\":\"white\",\"linecolor\":\"white\",\"minorgridcolor\":\"white\",\"startlinecolor\":\"#2a3f5f\"},\"baxis\":{\"endlinecolor\":\"#2a3f5f\",\"gridcolor\":\"white\",\"linecolor\":\"white\",\"minorgridcolor\":\"white\",\"startlinecolor\":\"#2a3f5f\"},\"type\":\"carpet\"}],\"table\":[{\"cells\":{\"fill\":{\"color\":\"#EBF0F8\"},\"line\":{\"color\":\"white\"}},\"header\":{\"fill\":{\"color\":\"#C8D4E3\"},\"line\":{\"color\":\"white\"}},\"type\":\"table\"}],\"barpolar\":[{\"marker\":{\"line\":{\"color\":\"#E5ECF6\",\"width\":0.5},\"pattern\":{\"fillmode\":\"overlay\",\"size\":10,\"solidity\":0.2}},\"type\":\"barpolar\"}],\"pie\":[{\"automargin\":true,\"type\":\"pie\"}]},\"layout\":{\"autotypenumbers\":\"strict\",\"colorway\":[\"#636efa\",\"#EF553B\",\"#00cc96\",\"#ab63fa\",\"#FFA15A\",\"#19d3f3\",\"#FF6692\",\"#B6E880\",\"#FF97FF\",\"#FECB52\"],\"font\":{\"color\":\"#2a3f5f\"},\"hovermode\":\"closest\",\"hoverlabel\":{\"align\":\"left\"},\"paper_bgcolor\":\"white\",\"plot_bgcolor\":\"#E5ECF6\",\"polar\":{\"bgcolor\":\"#E5ECF6\",\"angularaxis\":{\"gridcolor\":\"white\",\"linecolor\":\"white\",\"ticks\":\"\"},\"radialaxis\":{\"gridcolor\":\"white\",\"linecolor\":\"white\",\"ticks\":\"\"}},\"ternary\":{\"bgcolor\":\"#E5ECF6\",\"aaxis\":{\"gridcolor\":\"white\",\"linecolor\":\"white\",\"ticks\":\"\"},\"baxis\":{\"gridcolor\":\"white\",\"linecolor\":\"white\",\"ticks\":\"\"},\"caxis\":{\"gridcolor\":\"white\",\"linecolor\":\"white\",\"ticks\":\"\"}},\"coloraxis\":{\"colorbar\":{\"outlinewidth\":0,\"ticks\":\"\"}},\"colorscale\":{\"sequential\":[[0.0,\"#0d0887\"],[0.1111111111111111,\"#46039f\"],[0.2222222222222222,\"#7201a8\"],[0.3333333333333333,\"#9c179e\"],[0.4444444444444444,\"#bd3786\"],[0.5555555555555556,\"#d8576b\"],[0.6666666666666666,\"#ed7953\"],[0.7777777777777778,\"#fb9f3a\"],[0.8888888888888888,\"#fdca26\"],[1.0,\"#f0f921\"]],\"sequentialminus\":[[0.0,\"#0d0887\"],[0.1111111111111111,\"#46039f\"],[0.2222222222222222,\"#7201a8\"],[0.3333333333333333,\"#9c179e\"],[0.4444444444444444,\"#bd3786\"],[0.5555555555555556,\"#d8576b\"],[0.6666666666666666,\"#ed7953\"],[0.7777777777777778,\"#fb9f3a\"],[0.8888888888888888,\"#fdca26\"],[1.0,\"#f0f921\"]],\"diverging\":[[0,\"#8e0152\"],[0.1,\"#c51b7d\"],[0.2,\"#de77ae\"],[0.3,\"#f1b6da\"],[0.4,\"#fde0ef\"],[0.5,\"#f7f7f7\"],[0.6,\"#e6f5d0\"],[0.7,\"#b8e186\"],[0.8,\"#7fbc41\"],[0.9,\"#4d9221\"],[1,\"#276419\"]]},\"xaxis\":{\"gridcolor\":\"white\",\"linecolor\":\"white\",\"ticks\":\"\",\"title\":{\"standoff\":15},\"zerolinecolor\":\"white\",\"automargin\":true,\"zerolinewidth\":2},\"yaxis\":{\"gridcolor\":\"white\",\"linecolor\":\"white\",\"ticks\":\"\",\"title\":{\"standoff\":15},\"zerolinecolor\":\"white\",\"automargin\":true,\"zerolinewidth\":2},\"scene\":{\"xaxis\":{\"backgroundcolor\":\"#E5ECF6\",\"gridcolor\":\"white\",\"linecolor\":\"white\",\"showbackground\":true,\"ticks\":\"\",\"zerolinecolor\":\"white\",\"gridwidth\":2},\"yaxis\":{\"backgroundcolor\":\"#E5ECF6\",\"gridcolor\":\"white\",\"linecolor\":\"white\",\"showbackground\":true,\"ticks\":\"\",\"zerolinecolor\":\"white\",\"gridwidth\":2},\"zaxis\":{\"backgroundcolor\":\"#E5ECF6\",\"gridcolor\":\"white\",\"linecolor\":\"white\",\"showbackground\":true,\"ticks\":\"\",\"zerolinecolor\":\"white\",\"gridwidth\":2}},\"shapedefaults\":{\"line\":{\"color\":\"#2a3f5f\"}},\"annotationdefaults\":{\"arrowcolor\":\"#2a3f5f\",\"arrowhead\":0,\"arrowwidth\":1},\"geo\":{\"bgcolor\":\"white\",\"landcolor\":\"#E5ECF6\",\"subunitcolor\":\"white\",\"showland\":true,\"showlakes\":true,\"lakecolor\":\"white\"},\"title\":{\"x\":0.05},\"mapbox\":{\"style\":\"light\"}}},\"xaxis\":{\"anchor\":\"y\",\"domain\":[0.0,1.0],\"title\":{\"text\":\"Date\"}},\"yaxis\":{\"anchor\":\"x\",\"domain\":[0.0,1.0],\"title\":{\"text\":\"Prix au m\\u00b2\"}},\"legend\":{\"tracegroupgap\":0},\"margin\":{\"t\":60},\"width\":700,\"title\":{\"text\":\"Evolution du prix au m\\u00b2\"}},                        {\"responsive\": true}                    ).then(function(){\n",
       "                            \n",
       "var gd = document.getElementById('f762f8c6-e68f-458e-afab-63f2d7d763b1');\n",
       "var x = new MutationObserver(function (mutations, observer) {{\n",
       "        var display = window.getComputedStyle(gd).display;\n",
       "        if (!display || display === 'none') {{\n",
       "            console.log([gd, 'removed!']);\n",
       "            Plotly.purge(gd);\n",
       "            observer.disconnect();\n",
       "        }}\n",
       "}});\n",
       "\n",
       "// Listen for the removal of the full notebook cells\n",
       "var notebookContainer = gd.closest('#notebook-container');\n",
       "if (notebookContainer) {{\n",
       "    x.observe(notebookContainer, {childList: true});\n",
       "}}\n",
       "\n",
       "// Listen for the clearing of the current output cell\n",
       "var outputEl = gd.closest('.output');\n",
       "if (outputEl) {{\n",
       "    x.observe(outputEl, {childList: true});\n",
       "}}\n",
       "\n",
       "                        })                };                });            </script>        </div>"
      ]
     },
     "metadata": {},
     "output_type": "display_data"
    }
   ],
   "source": [
    "#Evolution du prix au M² par région\n",
    "\n",
    "plot_time_line_reg('Prix au m²', \"Normandie\", \"Evolution du prix au m²\", \"Prix au m²\")"
   ]
  }
 ],
 "metadata": {
  "interpreter": {
   "hash": "e380b15da7b6ae46a97670cb269c19dbb6426c7cd5a1d4bd3de7116695f0a695"
  },
  "kernelspec": {
   "display_name": "Python 3.9.1 64-bit",
   "language": "python",
   "name": "python3"
  },
  "language_info": {
   "codemirror_mode": {
    "name": "ipython",
    "version": 3
   },
   "file_extension": ".py",
   "mimetype": "text/x-python",
   "name": "python",
   "nbconvert_exporter": "python",
   "pygments_lexer": "ipython3",
   "version": "3.9.1"
  }
 },
 "nbformat": 4,
 "nbformat_minor": 5
}

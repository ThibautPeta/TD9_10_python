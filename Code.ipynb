{
 "cells": [
  {
   "cell_type": "code",
   "execution_count": null,
   "id": "cfae1b60",
   "metadata": {},
   "outputs": [],
   "source": [
    "#import des bibliothèques\n",
    "import numpy as np\n",
    "import pandas as pd #parcequ'on est pas des PD nous\n",
    "import matplotlib.pyplot as plt\n",
    "import seaborn as sns\n",
    "import plotly.express as px\n",
    "import plotly.graph_objs as go\n",
    "from plotly.subplots import make_subplots\n",
    "from plotly.offline import plot, iplot, init_notebook_mode\n",
    "import json\n",
    "import geojson\n",
    "import matplotlib.pyplot as plt\n",
    "from matplotlib.widgets import TextBox\n",
    "from urllib.request import urlopen\n",
    "from datetime import datetime\n",
    "import statistics\n",
    "init_notebook_mode(connected=True)"
   ]
  },
  {
   "cell_type": "code",
   "execution_count": null,
   "id": "5b2b10dc",
   "metadata": {},
   "outputs": [],
   "source": [
    "#import de l'ensemble des données\n",
    "#df_2017 = pd.read_csv('valeursfoncieres-2017.txt', sep=\"|\",low_memory=False,decimal=',')\n",
    "#df_2018 = pd.read_csv('valeursfoncieres-2018.txt', sep=\"|\",low_memory=False,decimal=',')\n",
    "#df_2019 = pd.read_csv('valeursfoncieres-2019.txt', sep=\"|\",low_memory=False,decimal=',')\n",
    "df_2020 = pd.read_csv('valeursfoncieres-2020.txt', sep=\"|\",low_memory=False,decimal=',')\n",
    "#df_2021 = pd.read_csv('valeursfoncieres-2021.txt', sep=\"|\",low_memory=False,decimal=',')"
   ]
  },
  {
   "cell_type": "code",
   "execution_count": null,
   "id": "a80678f6",
   "metadata": {},
   "outputs": [],
   "source": [
    "#affichage des 5 premiers élément du dataframe 2017\n",
    "#df_2017.head()"
   ]
  },
  {
   "cell_type": "code",
   "execution_count": null,
   "id": "7276b9ad",
   "metadata": {},
   "outputs": [],
   "source": [
    "#petite fonction qui permet de vérifier si une colonne ne contient aucun élément et dans ce cas cette dernière est supprimé\n",
    "def ColonneVide(df):\n",
    "    nunique = df.nunique()\n",
    "    compteur = 0\n",
    "    for i in df.columns:\n",
    "        if nunique[compteur] == 0:\n",
    "            del df[i]\n",
    "        compteur += 1\n",
    "    return df"
   ]
  },
  {
   "cell_type": "code",
   "execution_count": null,
   "id": "9a59758e",
   "metadata": {},
   "outputs": [],
   "source": [
    "#on supprime les colonnes vides\n",
    "#df_2017 = ColonneVide(df_2017)\n",
    "#df_2018 = ColonneVide(df_2018)\n",
    "#df_2019 = ColonneVide(df_2019)\n",
    "df_2020 = ColonneVide(df_2020)\n",
    "#df_2021 = ColonneVide(df_2021)\n",
    "df_2020.head(10)"
   ]
  },
  {
   "cell_type": "code",
   "execution_count": null,
   "id": "9ad256de",
   "metadata": {},
   "outputs": [],
   "source": [
    "#variables utiles pour la suite\n",
    "\n",
    "REGIONS = {\n",
    "    'Auvergne-Rhône-Alpes': ['01', '03', '07', '15', '26', '38', '42', '43', '63', '69', '73', '74'],\n",
    "    'Bourgogne-Franche-Comté': ['21', '25', '39', '58', '70', '71', '89', '90'],\n",
    "    'Bretagne': ['35', '22', '56', '29'],\n",
    "    'Centre-Val de Loire': ['18', '28', '36', '37', '41', '45'],\n",
    "    'Corse': ['2A', '2B'],\n",
    "    'Grand Est': ['08', '10', '51', '52', '54', '55', '57', '67', '68', '88'],\n",
    "    'Guadeloupe': ['971'],\n",
    "    'Guyane': ['973'],\n",
    "    'Hauts-de-France': ['02', '59', '60', '62', '80'],\n",
    "    'Île-de-France': ['75', '77', '78', '91', '92', '93', '94', '95'],\n",
    "    'La Réunion': ['974'],\n",
    "    'Martinique': ['972'],\n",
    "    'Normandie': ['14', '27', '50', '61', '76'],\n",
    "    'Nouvelle-Aquitaine': ['16', '17', '19', '23', '24', '33', '40', '47', '64', '79', '86', '87'],\n",
    "    'Occitanie': ['09', '11', '12', '30', '31', '32', '34', '46', '48', '65', '66', '81', '82'],\n",
    "    'Pays de la Loire': ['44', '49', '53', '72', '85'],\n",
    "    'Provence-Alpes-Côte d\\'Azur': ['04', '05', '06', '13', '83', '84'],\n",
    "}\n",
    "\n",
    "DEPARTMENTS = {\n",
    "    '01': 'Ain', \n",
    "    '02': 'Aisne', \n",
    "    '03': 'Allier', \n",
    "    '04': 'Alpes-de-Haute-Provence', \n",
    "    '05': 'Hautes-Alpes',\n",
    "    '06': 'Alpes-Maritimes', \n",
    "    '07': 'Ardèche', \n",
    "    '08': 'Ardennes', \n",
    "    '09': 'Ariège', \n",
    "    '10': 'Aube', \n",
    "    '11': 'Aude',\n",
    "    '12': 'Aveyron', \n",
    "    '13': 'Bouches-du-Rhône', \n",
    "    '14': 'Calvados', \n",
    "    '15': 'Cantal', \n",
    "    '16': 'Charente',\n",
    "    '17': 'Charente-Maritime', \n",
    "    '18': 'Cher', \n",
    "    '19': 'Corrèze', \n",
    "    '2A': 'Corse-du-Sud', \n",
    "    '2B': 'Haute-Corse',\n",
    "    '21': 'Côte-d\\'Or', \n",
    "    '22': 'Côtes-d\\'Armor', \n",
    "    '23': 'Creuse', \n",
    "    '24': 'Dordogne', \n",
    "    '25': 'Doubs', \n",
    "    '26': 'Drôme',\n",
    "    '27': 'Eure', \n",
    "    '28': 'Eure-et-Loir', \n",
    "    '29': 'Finistère', \n",
    "    '30': 'Gard', \n",
    "    '31': 'Haute-Garonne', \n",
    "    '32': 'Gers',\n",
    "    '33': 'Gironde', \n",
    "    '34': 'Hérault', \n",
    "    '35': 'Ille-et-Vilaine', \n",
    "    '36': 'Indre', \n",
    "    '37': 'Indre-et-Loire',\n",
    "    '38': 'Isère', \n",
    "    '39': 'Jura', \n",
    "    '40': 'Landes', \n",
    "    '41': 'Loir-et-Cher', \n",
    "    '42': 'Loire', \n",
    "    '43': 'Haute-Loire',\n",
    "    '44': 'Loire-Atlantique', \n",
    "    '45': 'Loiret', \n",
    "    '46': 'Lot', \n",
    "    '47': 'Lot-et-Garonne', \n",
    "    '48': 'Lozère',\n",
    "    '49': 'Maine-et-Loire', \n",
    "    '50': 'Manche', \n",
    "    '51': 'Marne', \n",
    "    '52': 'Haute-Marne', \n",
    "    '53': 'Mayenne',\n",
    "    '54': 'Meurthe-et-Moselle', \n",
    "    '55': 'Meuse', \n",
    "    '56': 'Morbihan', \n",
    "    '57': 'Moselle', \n",
    "    '58': 'Nièvre', \n",
    "    '59': 'Nord',\n",
    "    '60': 'Oise', \n",
    "    '61': 'Orne', \n",
    "    '62': 'Pas-de-Calais', \n",
    "    '63': 'Puy-de-Dôme', \n",
    "    '64': 'Pyrénées-Atlantiques',\n",
    "    '65': 'Hautes-Pyrénées', \n",
    "    '66': 'Pyrénées-Orientales', \n",
    "    '67': 'Bas-Rhin', \n",
    "    '68': 'Haut-Rhin', \n",
    "    '69': 'Rhône',\n",
    "    '70': 'Haute-Saône', \n",
    "    '71': 'Saône-et-Loire', \n",
    "    '72': 'Sarthe', \n",
    "    '73': 'Savoie', \n",
    "    '74': 'Haute-Savoie',\n",
    "    '75': 'Paris', \n",
    "    '76': 'Seine-Maritime', \n",
    "    '77': 'Seine-et-Marne', \n",
    "    '78': 'Yvelines', \n",
    "    '79': 'Deux-Sèvres',\n",
    "    '80': 'Somme', \n",
    "    '81': 'Tarn', \n",
    "    '82': 'Tarn-et-Garonne', \n",
    "    '83': 'Var', \n",
    "    '84': 'Vaucluse', \n",
    "    '85': 'Vendée',\n",
    "    '86': 'Vienne', \n",
    "    '87': 'Haute-Vienne', \n",
    "    '88': 'Vosges', \n",
    "    '89': 'Yonne', \n",
    "    '90': 'Territoire de Belfort',\n",
    "    '91': 'Essonne', \n",
    "    '92': 'Hauts-de-Seine', \n",
    "    '93': 'Seine-Saint-Denis', \n",
    "    '94': 'Val-de-Marne', \n",
    "    '95': 'Val-d\\'Oise',\n",
    "    '971': 'Guadeloupe', \n",
    "    '972': 'Martinique', \n",
    "    '973': 'Guyane', \n",
    "    '974': 'La Réunion', \n",
    "    '976': 'Mayotte',\n",
    "}\n",
    "\n",
    "with urlopen('https://raw.githubusercontent.com/gregoiredavid/france-geojson/master/departements-version-simplifiee.geojson') as response:\n",
    "  departements_france = json.load(response)\n",
    "\n",
    "with urlopen('https://raw.githubusercontent.com/gregoiredavid/france-geojson/master/regions-version-simplifiee.geojson') as response:\n",
    "  regions_france = json.load(response)\n",
    "\n",
    "with urlopen('https://raw.githubusercontent.com/gregoiredavid/france-geojson/master/communes-version-simplifiee.geojson') as response:\n",
    "  communes_france = json.load(response)"
   ]
  },
  {
   "cell_type": "code",
   "execution_count": null,
   "id": "7c87a1d5",
   "metadata": {},
   "outputs": [],
   "source": [
    "def find_key(dico,v): \n",
    "    for k, val in dico.items(): \n",
    "        if v in val: \n",
    "            return k "
   ]
  },
  {
   "cell_type": "code",
   "execution_count": null,
   "id": "12963f94",
   "metadata": {},
   "outputs": [],
   "source": [
    "#ajout des régions dans le dataframe\n",
    "df_2020[\"Regions\"] = None\n",
    "\n",
    "tab = []\n",
    "for i in df_2020[\"Code departement\"]:\n",
    "    tab.append(find_key(REGIONS, i))\n",
    "df_2020[\"Regions\"] = tab"
   ]
  },
  {
   "cell_type": "code",
   "execution_count": null,
   "id": "2eebdf74",
   "metadata": {},
   "outputs": [],
   "source": [
    "#Calcul du prix au m², du rapport valeurs fonctières/nombre de piece des maisons et appartement\n",
    "#on met aussi a jour les noms des villes pour qu'ils correspondent au format des gesjson\n",
    "df_2020['Commune'] = df_2020['Commune'].apply(lambda x: x[:1] + x[1:].lower())\n",
    "df_2020[\"Prix au m2\"] = round(df_2020[\"Valeur fonciere\"]/df_2020[\"Surface terrain\"])\n",
    "df_2020[\"Rapport valeurs foncières / nombre de pieces\"] = round(df_2020[\"Valeur fonciere\"]/df_2020[\"Nombre pieces principales\"])\n",
    "Maison_mask = df_2020['Type local']=='Maison'\n",
    "Appart_mask = df_2020['Type local']=='Appartement'\n",
    "df_2020_habitation = df_2020[Maison_mask]\n",
    "df_2020_habitation = pd.concat([df_2020_habitation,df_2020[Appart_mask]])"
   ]
  },
  {
   "cell_type": "code",
   "execution_count": null,
   "id": "b2fc27d0",
   "metadata": {},
   "outputs": [],
   "source": [
    "# fonction affichage d'une carte\n",
    "def plot_fig(data, geo, colonne, proprietes, zoom, latitude,variable):\n",
    "  fig = px.choropleth_mapbox(data, geojson=geo, locations=colonne, featureidkey=proprietes, color=variable, color_continuous_scale=\"Viridis\",\n",
    "                           mapbox_style=\"carto-positron\",\n",
    "                           zoom=zoom, center = {\"lat\": latitude, \"lon\": 2.351828},\n",
    "                           opacity=0.5, width=1400, height = 800)\n",
    "  fig.show()"
   ]
  },
  {
   "cell_type": "code",
   "execution_count": null,
   "id": "250f099e",
   "metadata": {
    "scrolled": true
   },
   "outputs": [],
   "source": [
    "#affichage des prix au m² par départements pour les appartements et maison\n",
    "plot_fig(df_2020_habitation, departements_france, 'Code departement', \"properties.code\", 5, 46.856578,'Prix au m2')"
   ]
  },
  {
   "cell_type": "code",
   "execution_count": null,
   "id": "9c47f94f",
   "metadata": {},
   "outputs": [],
   "source": [
    "#affichage des prix au m² par régions pour les appartements et maison\n",
    "plot_fig(df_2020_habitation, regions_france, 'Regions', \"properties.nom\", 5, 46.856578,'Prix au m2')"
   ]
  },
  {
   "cell_type": "code",
   "execution_count": null,
   "id": "8a73e999",
   "metadata": {},
   "outputs": [],
   "source": [
    "#Rapport valeurs foncières/nombre de piece par département\n",
    "plot_fig(df_2020_habitation, departements_france, 'Code departement', \"properties.code\", 5, 46.856578,'Rapport valeurs foncières / nombre de pieces')"
   ]
  },
  {
   "cell_type": "code",
   "execution_count": null,
   "id": "692802e5",
   "metadata": {},
   "outputs": [],
   "source": [
    "#Rapport valeurs foncières/nombre de piece par régions\n",
    "plot_fig(df_2020_habitation, regions_france, 'Regions', \"properties.nom\", 5, 46.856578,'Rapport valeurs foncières / nombre de pieces')"
   ]
  },
  {
   "cell_type": "code",
   "execution_count": null,
   "id": "c623d96b",
   "metadata": {},
   "outputs": [],
   "source": [
    "#Calcul des prix au m² des maisons et appartement par commune\n",
    "df_2020_prixm2_par_commune = df_2020_habitation[['Commune','Prix au m2']].groupby('Commune').mean()\n",
    "df_2020_prixm2_par_commune['Commune'] = df_2020_prixm2_par_commune.index"
   ]
  },
  {
   "cell_type": "code",
   "execution_count": null,
   "id": "0744f068",
   "metadata": {},
   "outputs": [],
   "source": [
    "#prix au m2 des maisons et appartement par commune\n",
    "plot_fig(df_2020_habitation, communes_france, 'Commune', \"properties.nom\", 5, 46.856578,'Prix au m2')"
   ]
  },
  {
   "cell_type": "code",
   "execution_count": null,
   "id": "45e0c310",
   "metadata": {},
   "outputs": [],
   "source": [
    "#prix au m2 des local industriel et commercial\n",
    "Local_mask = df_2020['Type local']=='Local industriel. commercial ou assimilé'\n",
    "df_2020_local = df_2020[Local_mask]"
   ]
  },
  {
   "cell_type": "code",
   "execution_count": null,
   "id": "2a557927",
   "metadata": {},
   "outputs": [],
   "source": [
    "#Calcul des prix au m² des locaux industriels et commercial par région\n",
    "plot_fig(df_2020_local, regions_france, 'Regions', \"properties.nom\", 5, 46.856578,'Prix au m2')"
   ]
  },
  {
   "cell_type": "code",
   "execution_count": null,
   "id": "c0f15d15",
   "metadata": {},
   "outputs": [],
   "source": [
    "#Calcul des prix au m² des locaux industriels et commercial par département\n",
    "plot_fig(df_2020_local, departements_france, 'Code departement', \"properties.code\", 5, 46.856578,'Prix au m2')"
   ]
  },
  {
   "cell_type": "code",
   "execution_count": null,
   "id": "d0043ecb",
   "metadata": {},
   "outputs": [],
   "source": [
    "#Calcul des prix au m² des locaux industriels et commercial par ville\n",
    "plot_fig(df_2020_local, communes_france, 'Commune', \"properties.nom\", 5, 46.856578,'Prix au m2')"
   ]
  },
  {
   "cell_type": "code",
   "execution_count": null,
   "id": "be9a7dec",
   "metadata": {},
   "outputs": [],
   "source": [
    "#moyenne des surfaces vendues par régions\n",
    "plot_fig(df_2020, regions_france, 'Regions', \"properties.nom\", 5, 46.856578,'Surface terrain')"
   ]
  },
  {
   "cell_type": "code",
   "execution_count": null,
   "id": "6fd727ae",
   "metadata": {},
   "outputs": [],
   "source": [
    "#Calcul des prix au m² des locaux industriels et commercial par département\n",
    "plot_fig(df_2020, departements_france, 'Code departement', \"properties.code\", 5, 46.856578,'Surface terrain')"
   ]
  },
  {
   "cell_type": "code",
   "execution_count": null,
   "id": "e0af14d2",
   "metadata": {},
   "outputs": [],
   "source": [
    "#Valeur foncière d'un culture nature par région\n",
    "def look_by_nat_cult(data,attribut, nat_cult):\n",
    "    data_natcult = data[\"Nature culture\"]==nat_cult\n",
    "    return data[data_natcult].groupby(attribut).mean()[\"Valeur fonciere\"]\n",
    "    \n",
    "nature_culture = dict()\n",
    "for k in df_2020.groupby('Nature culture').sum().axes[0]:\n",
    "    nature_culture.update({k:look_by_nat_cult(df_2020, \"Regions\", k)})\n",
    "nature_culture = pd.DataFrame(data=nature_culture)\n",
    "\n",
    "def nc_val_fonc_by_reg(data, nat_cul):\n",
    "    fig=px.bar(data[nat_cul], height=500, width=800,color=range(len(REGIONS.keys())),title=f\"Valeur foncière d'une culture de nature {nat_cul} par région\")\n",
    "    fig.update_layout(yaxis_title=\"Valeur  Foncière\")\n",
    "    fig.show()\n",
    "for k in df_2020.groupby('Nature culture').sum().axes[0]:\n",
    "    nc_val_fonc_by_reg(nature_culture, k)\n"
   ]
  },
  {
   "cell_type": "markdown",
   "id": "12c5aea9",
   "metadata": {},
   "source": [
    "Evolution par Année"
   ]
  },
  {
   "cell_type": "code",
   "execution_count": null,
   "id": "b65c600a",
   "metadata": {},
   "outputs": [],
   "source": [
    "#import de l'ensemble des données\n",
    "df_2017 = pd.read_csv('valeursfoncieres-2017.txt', sep=\"|\",low_memory=False,decimal=',')\n",
    "df_2018 = pd.read_csv('valeursfoncieres-2018.txt', sep=\"|\",low_memory=False,decimal=',')\n",
    "df_2019 = pd.read_csv('valeursfoncieres-2019.txt', sep=\"|\",low_memory=False,decimal=',')\n",
    "df_2020 = pd.read_csv('valeursfoncieres-2020.txt', sep=\"|\",low_memory=False,decimal=',')\n",
    "df_2021 = pd.read_csv('valeursfoncieres-2021.txt', sep=\"|\",low_memory=False,decimal=',')\n",
    "\n",
    "df_2017 = ColonneVide(df_2017)\n",
    "df_2018 = ColonneVide(df_2018)\n",
    "df_2019 = ColonneVide(df_2019)\n",
    "df_2020 = ColonneVide(df_2020)\n",
    "df_2021 = ColonneVide(df_2021)\n"
   ]
  },
  {
   "cell_type": "code",
   "execution_count": null,
   "id": "818dd698",
   "metadata": {},
   "outputs": [],
   "source": [
    "def addRegions(data):\n",
    "    tab = []\n",
    "    for i in data[\"Code departement\"]:\n",
    "        tab.append(find_key(REGIONS, i))\n",
    "    data[\"Region\"] = tab\n",
    "    return data"
   ]
  },
  {
   "cell_type": "code",
   "execution_count": null,
   "id": "f73b0ad6",
   "metadata": {},
   "outputs": [],
   "source": [
    "df_2017 = addRegions(df_2017)\n",
    "df_2018 = addRegions(df_2018)\n",
    "df_2019 = addRegions(df_2019)\n",
    "df_2020 = addRegions(df_2020)\n",
    "df_2021 = addRegions(df_2021)"
   ]
  },
  {
   "cell_type": "code",
   "execution_count": null,
   "id": "c5c0115e",
   "metadata": {},
   "outputs": [],
   "source": [
    "\n",
    "# df_2017[\"Prix au m²\"] = df_2017[\"Valeur fonciere\"].div(df_2017[\"Surface terrain\"], fill_value=1)\n",
    "# df_2018[\"Prix au m²\"] = df_2018[\"Valeur fonciere\"].div(df_2018[\"Surface terrain\"], fill_value=1)\n",
    "# df_2019[\"Prix au m²\"] = df_2019[\"Valeur fonciere\"].div(df_2019[\"Surface terrain\"], fill_value=1)\n",
    "# df_2020[\"Prix au m²\"] = df_2020[\"Valeur fonciere\"].div(df_2020[\"Surface terrain\"], fill_value=1)\n",
    "# df_2021[\"Prix au m²\"] = df_2021[\"Valeur fonciere\"].div(df_2021[\"Surface terrain\"], fill_value=1)\n",
    "\n",
    "def pm2(data):\n",
    "    tab = []\n",
    "    for i,k in data.iterrows():\n",
    "        div = k[\"Surface terrain\"] if k[\"Surface terrain\"] != None else k[\"Surface reelle bati\"]\n",
    "        tab.append(k[\"Valeur fonciere\"]/(div if div!=0 else 1))\n",
    "    data[\"Prix au m²\"] = tab\n",
    "    return data\n",
    "df_2017 = pm2(df_2017)\n",
    "df_2018 = pm2(df_2018)\n",
    "df_2019 = pm2(df_2019)\n",
    "df_2020 = pm2(df_2020)\n",
    "df_2021 = pm2(df_2021)\n",
    "\n",
    "\n",
    "\n",
    "\n"
   ]
  },
  {
   "cell_type": "code",
   "execution_count": null,
   "id": "bc098794",
   "metadata": {},
   "outputs": [],
   "source": [
    "def addDate(data, year):\n",
    "    data['Year'] = [year] * len(data.index)\n",
    "    return data\n",
    "\n",
    "df_2017 = addDate(df_2017,2017)\n",
    "df_2018 = addDate(df_2018,2018)\n",
    "df_2019 = addDate(df_2019,2019)\n",
    "df_2020 = addDate(df_2020,2020)\n",
    "df_2021 = addDate(df_2021,2021)\n",
    "print(df_2017)"
   ]
  },
  {
   "cell_type": "code",
   "execution_count": null,
   "id": "cc2e97d7",
   "metadata": {},
   "outputs": [],
   "source": [
    "def plot_time_line_reg(col,region,title=\"\",yaxis_title=\"\", slide = False):\n",
    "    \n",
    "    \n",
    "    # T2017 = df_2017.loc[df_2017[\"Region\"] == region][col].sum()\n",
    "    # T2018 = df_2018.loc[df_2018[\"Region\"] == region][col].sum()\n",
    "    # T2019 = df_2019.loc[df_2019[\"Region\"] == region][col].sum()\n",
    "    # T2020 = df_2020.loc[df_2020[\"Region\"] == region][col].sum()\n",
    "    # T2021 = df_2021.loc[df_2021[\"Region\"] == region][col].sum()\n",
    "    \n",
    "    T2017 = df_2017.groupby('Region').mean()\n",
    "    T2018 = df_2018.groupby('Region').mean()\n",
    "    T2019 = df_2019.groupby('Region').mean()\n",
    "    T2020 = df_2020.groupby('Region').mean()\n",
    "    T2021 = df_2021.groupby('Region').mean()\n",
    "    \n",
    "    \n",
    "    T2017 = T2017.loc[T2017.index == region]\n",
    "    T2018 = T2018.loc[T2018.index == region]\n",
    "    T2019 = T2019.loc[T2019.index == region]\n",
    "    T2020 = T2020.loc[T2020.index == region]\n",
    "    T2021 = T2021.loc[T2021.index == region]\n",
    "    \n",
    "    TAll = pd.concat([T2017,T2018,T2019,T2020,T2021])\n",
    "\n",
    "\n",
    "    \n",
    "    \n",
    "    \n",
    "    fig = px.line(TAll,x='Year', y=col ,width=700)\n",
    "    fig.update_layout(title=(col if title==\"\" else title + \" en \" + region), xaxis_title=\"Annee\", yaxis_title=yaxis_title)\n",
    "    if(slide):\n",
    "        fig.update_layout(xaxis_rangeslider_visible=True)\n",
    "    fig.show()\n"
   ]
  },
  {
   "cell_type": "code",
   "execution_count": null,
   "id": "43f13e53",
   "metadata": {},
   "outputs": [],
   "source": [
    "#Evolution du prix au M² par région\n",
    "\n",
    "plot_time_line_reg('Prix au m²', \"Corse\", \"Evolution du prix au m²\", \"Prix au m²\")"
   ]
  },
  {
   "cell_type": "code",
   "execution_count": null,
   "id": "86946e7f",
   "metadata": {},
   "outputs": [],
   "source": [
    "#Evolution de la moyenne des valeurs foncières\n",
    "\n",
    "plot_time_line_reg('Valeur fonciere', \"Normandie\", \"Evolution des valeurs foncières\", \"Valeur foncière\")"
   ]
  },
  {
   "cell_type": "code",
   "execution_count": null,
   "id": "498d8396",
   "metadata": {},
   "outputs": [],
   "source": []
  }
 ],
 "metadata": {
  "interpreter": {
   "hash": "e380b15da7b6ae46a97670cb269c19dbb6426c7cd5a1d4bd3de7116695f0a695"
  },
  "kernelspec": {
   "display_name": "Python 3.9.1 64-bit",
   "language": "python",
   "name": "python3"
  },
  "language_info": {
   "codemirror_mode": {
    "name": "ipython",
    "version": 3
   },
   "file_extension": ".py",
   "mimetype": "text/x-python",
   "name": "python",
   "nbconvert_exporter": "python",
   "pygments_lexer": "ipython3",
   "version": "3.9.1"
  }
 },
 "nbformat": 4,
 "nbformat_minor": 5
}
